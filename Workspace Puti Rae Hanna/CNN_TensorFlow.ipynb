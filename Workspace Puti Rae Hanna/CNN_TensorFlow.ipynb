{
  "nbformat": 4,
  "nbformat_minor": 0,
  "metadata": {
    "colab": {
      "provenance": []
    },
    "kernelspec": {
      "name": "python3",
      "display_name": "Python 3"
    },
    "language_info": {
      "name": "python"
    }
  },
  "cells": [
    {
      "cell_type": "code",
      "source": [
        "!pip install split-folders\n"
      ],
      "metadata": {
        "colab": {
          "base_uri": "https://localhost:8080/"
        },
        "id": "mk-qdKor1uSN",
        "outputId": "9a5afa22-2706-450e-cd4e-b4021fed3b4f"
      },
      "execution_count": 4,
      "outputs": [
        {
          "output_type": "stream",
          "name": "stdout",
          "text": [
            "Collecting split-folders\n",
            "  Downloading split_folders-0.5.1-py3-none-any.whl.metadata (6.2 kB)\n",
            "Downloading split_folders-0.5.1-py3-none-any.whl (8.4 kB)\n",
            "Installing collected packages: split-folders\n",
            "Successfully installed split-folders-0.5.1\n"
          ]
        }
      ]
    },
    {
      "cell_type": "code",
      "source": [
        "!pip install mediapipe"
      ],
      "metadata": {
        "collapsed": true,
        "colab": {
          "base_uri": "https://localhost:8080/"
        },
        "id": "m-75j9MYEqOk",
        "outputId": "9f92e9b4-65a4-4713-c389-0149a7c9c62e"
      },
      "execution_count": 5,
      "outputs": [
        {
          "output_type": "stream",
          "name": "stdout",
          "text": [
            "Collecting mediapipe\n",
            "  Downloading mediapipe-0.10.20-cp310-cp310-manylinux_2_28_x86_64.whl.metadata (9.7 kB)\n",
            "Requirement already satisfied: absl-py in /usr/local/lib/python3.10/dist-packages (from mediapipe) (1.4.0)\n",
            "Requirement already satisfied: attrs>=19.1.0 in /usr/local/lib/python3.10/dist-packages (from mediapipe) (24.2.0)\n",
            "Requirement already satisfied: flatbuffers>=2.0 in /usr/local/lib/python3.10/dist-packages (from mediapipe) (24.3.25)\n",
            "Requirement already satisfied: jax in /usr/local/lib/python3.10/dist-packages (from mediapipe) (0.4.33)\n",
            "Requirement already satisfied: jaxlib in /usr/local/lib/python3.10/dist-packages (from mediapipe) (0.4.33)\n",
            "Requirement already satisfied: matplotlib in /usr/local/lib/python3.10/dist-packages (from mediapipe) (3.8.0)\n",
            "Requirement already satisfied: numpy<2 in /usr/local/lib/python3.10/dist-packages (from mediapipe) (1.26.4)\n",
            "Requirement already satisfied: opencv-contrib-python in /usr/local/lib/python3.10/dist-packages (from mediapipe) (4.10.0.84)\n",
            "Requirement already satisfied: protobuf<5,>=4.25.3 in /usr/local/lib/python3.10/dist-packages (from mediapipe) (4.25.5)\n",
            "Collecting sounddevice>=0.4.4 (from mediapipe)\n",
            "  Downloading sounddevice-0.5.1-py3-none-any.whl.metadata (1.4 kB)\n",
            "Requirement already satisfied: sentencepiece in /usr/local/lib/python3.10/dist-packages (from mediapipe) (0.2.0)\n",
            "Requirement already satisfied: CFFI>=1.0 in /usr/local/lib/python3.10/dist-packages (from sounddevice>=0.4.4->mediapipe) (1.17.1)\n",
            "Requirement already satisfied: ml-dtypes>=0.2.0 in /usr/local/lib/python3.10/dist-packages (from jax->mediapipe) (0.4.1)\n",
            "Requirement already satisfied: opt-einsum in /usr/local/lib/python3.10/dist-packages (from jax->mediapipe) (3.4.0)\n",
            "Requirement already satisfied: scipy>=1.10 in /usr/local/lib/python3.10/dist-packages (from jax->mediapipe) (1.13.1)\n",
            "Requirement already satisfied: contourpy>=1.0.1 in /usr/local/lib/python3.10/dist-packages (from matplotlib->mediapipe) (1.3.1)\n",
            "Requirement already satisfied: cycler>=0.10 in /usr/local/lib/python3.10/dist-packages (from matplotlib->mediapipe) (0.12.1)\n",
            "Requirement already satisfied: fonttools>=4.22.0 in /usr/local/lib/python3.10/dist-packages (from matplotlib->mediapipe) (4.55.3)\n",
            "Requirement already satisfied: kiwisolver>=1.0.1 in /usr/local/lib/python3.10/dist-packages (from matplotlib->mediapipe) (1.4.7)\n",
            "Requirement already satisfied: packaging>=20.0 in /usr/local/lib/python3.10/dist-packages (from matplotlib->mediapipe) (24.2)\n",
            "Requirement already satisfied: pillow>=6.2.0 in /usr/local/lib/python3.10/dist-packages (from matplotlib->mediapipe) (11.0.0)\n",
            "Requirement already satisfied: pyparsing>=2.3.1 in /usr/local/lib/python3.10/dist-packages (from matplotlib->mediapipe) (3.2.0)\n",
            "Requirement already satisfied: python-dateutil>=2.7 in /usr/local/lib/python3.10/dist-packages (from matplotlib->mediapipe) (2.8.2)\n",
            "Requirement already satisfied: pycparser in /usr/local/lib/python3.10/dist-packages (from CFFI>=1.0->sounddevice>=0.4.4->mediapipe) (2.22)\n",
            "Requirement already satisfied: six>=1.5 in /usr/local/lib/python3.10/dist-packages (from python-dateutil>=2.7->matplotlib->mediapipe) (1.17.0)\n",
            "Downloading mediapipe-0.10.20-cp310-cp310-manylinux_2_28_x86_64.whl (35.6 MB)\n",
            "\u001b[2K   \u001b[90m━━━━━━━━━━━━━━━━━━━━━━━━━━━━━━━━━━━━━━━━\u001b[0m \u001b[32m35.6/35.6 MB\u001b[0m \u001b[31m30.2 MB/s\u001b[0m eta \u001b[36m0:00:00\u001b[0m\n",
            "\u001b[?25hDownloading sounddevice-0.5.1-py3-none-any.whl (32 kB)\n",
            "Installing collected packages: sounddevice, mediapipe\n",
            "Successfully installed mediapipe-0.10.20 sounddevice-0.5.1\n"
          ]
        }
      ]
    },
    {
      "cell_type": "code",
      "source": [
        "import tensorflow as tf\n",
        "from tensorflow.keras.preprocessing.image import ImageDataGenerator\n",
        "from tensorflow.keras import layers, models\n",
        "import mediapipe as mp\n",
        "import cv2\n",
        "import os\n",
        "import splitfolders\n",
        "import numpy as np\n",
        "from sklearn.metrics import classification_report, confusion_matrix\n",
        "import seaborn as sns\n",
        "import matplotlib.pyplot as plt"
      ],
      "metadata": {
        "id": "hkiEQCW_vIo3"
      },
      "execution_count": 36,
      "outputs": []
    },
    {
      "cell_type": "code",
      "source": [
        "# Step 1: Preprocess Data with MediaPipe\n",
        "def preprocess_with_mediapipe(input_folder, output_folder):\n",
        "    mp_face_detection = mp.solutions.face_detection\n",
        "    face_detection = mp_face_detection.FaceDetection(min_detection_confidence=0.5)\n",
        "\n",
        "    if not os.path.exists(output_folder):\n",
        "        os.makedirs(output_folder)\n",
        "\n",
        "    for label in os.listdir(input_folder):\n",
        "        label_folder = os.path.join(input_folder, label)\n",
        "        output_label_folder = os.path.join(output_folder, label)\n",
        "\n",
        "        if not os.path.exists(output_label_folder):\n",
        "            os.makedirs(output_label_folder)\n",
        "\n",
        "        for image_file in os.listdir(label_folder):\n",
        "            image_path = os.path.join(label_folder, image_file)\n",
        "            image = cv2.imread(image_path)\n",
        "\n",
        "            if image is None:\n",
        "                print(f\"Failed to load image: {image_path}\")\n",
        "                continue\n",
        "\n",
        "            # Detect faces\n",
        "            results = face_detection.process(cv2.cvtColor(image, cv2.COLOR_BGR2RGB))\n",
        "            if results.detections:\n",
        "                for detection in results.detections:\n",
        "                    bboxC = detection.location_data.relative_bounding_box\n",
        "                    ih, iw, _ = image.shape\n",
        "                    x, y, w, h = (int(bboxC.xmin * iw), int(bboxC.ymin * ih),\n",
        "                                  int(bboxC.width * iw), int(bboxC.height * ih))\n",
        "                    if x >= 0 and y >= 0 and x + w <= iw and y + h <= ih:\n",
        "                        cropped_face = image[y:y + h, x:x + w]\n",
        "                        resized_face = cv2.resize(cropped_face, (160, 160))\n",
        "                        # Save processed face\n",
        "                        output_path = os.path.join(output_label_folder, image_file)\n",
        "                        cv2.imwrite(output_path, resized_face)\n",
        "                    else:\n",
        "                        print(f\"Invalid bounding box for image: {image_path}\")\n",
        "            else:\n",
        "                print(f\"No face detected in image: {image_path}\")\n",
        "\n",
        "    print(\"Preprocessing completed with MediaPipe.\")\n"
      ],
      "metadata": {
        "id": "K07JSHZ6zxKv"
      },
      "execution_count": 37,
      "outputs": []
    },
    {
      "cell_type": "code",
      "source": [
        "# Preprocess images\n",
        "preprocess_with_mediapipe('/content/drive/My Drive/Database/Foto_Resize_Rotate_160x160', '/content/drive/My Drive/Database/Preprocessed_Dataset_160x160')"
      ],
      "metadata": {
        "colab": {
          "base_uri": "https://localhost:8080/"
        },
        "collapsed": true,
        "id": "9gFvLnMJbca_",
        "outputId": "01aad481-af1f-4117-ba2e-7d7f1747d1f3"
      },
      "execution_count": 38,
      "outputs": [
        {
          "output_type": "stream",
          "name": "stdout",
          "text": [
            "No face detected in image: /content/drive/My Drive/Database/Foto_Resize_Rotate_160x160/Keiko/Keiko_67.jpg\n",
            "Invalid bounding box for image: /content/drive/My Drive/Database/Foto_Resize_Rotate_160x160/Keiko/Keiko_27.jpg\n",
            "No face detected in image: /content/drive/My Drive/Database/Foto_Resize_Rotate_160x160/Keiko/Keiko_75.jpg\n",
            "Invalid bounding box for image: /content/drive/My Drive/Database/Foto_Resize_Rotate_160x160/Hafidz/Hafidz_3.jpg\n",
            "Invalid bounding box for image: /content/drive/My Drive/Database/Foto_Resize_Rotate_160x160/Hafidz/Hafidz_22.jpg\n",
            "Invalid bounding box for image: /content/drive/My Drive/Database/Foto_Resize_Rotate_160x160/Hafidz/Hafidz_23.jpg\n",
            "Invalid bounding box for image: /content/drive/My Drive/Database/Foto_Resize_Rotate_160x160/Hafidz/Hafidz_14.jpg\n",
            "Invalid bounding box for image: /content/drive/My Drive/Database/Foto_Resize_Rotate_160x160/Hafidz/Hafidz_31.jpg\n",
            "Invalid bounding box for image: /content/drive/My Drive/Database/Foto_Resize_Rotate_160x160/Hafidz/Hafidz_15.jpg\n",
            "Invalid bounding box for image: /content/drive/My Drive/Database/Foto_Resize_Rotate_160x160/Hafidz/Hafidz_13.jpg\n",
            "Invalid bounding box for image: /content/drive/My Drive/Database/Foto_Resize_Rotate_160x160/Hafidz/Hafidz_39.jpg\n",
            "Invalid bounding box for image: /content/drive/My Drive/Database/Foto_Resize_Rotate_160x160/Hafidz/Hafidz_45.jpg\n",
            "Invalid bounding box for image: /content/drive/My Drive/Database/Foto_Resize_Rotate_160x160/Hafidz/Hafidz_44.jpg\n",
            "Invalid bounding box for image: /content/drive/My Drive/Database/Foto_Resize_Rotate_160x160/Hafidz/Hafidz_38.jpg\n",
            "Invalid bounding box for image: /content/drive/My Drive/Database/Foto_Resize_Rotate_160x160/Hafidz/Hafidz_4.jpg\n",
            "Invalid bounding box for image: /content/drive/My Drive/Database/Foto_Resize_Rotate_160x160/Hafidz/Hafidz_35.jpg\n",
            "Invalid bounding box for image: /content/drive/My Drive/Database/Foto_Resize_Rotate_160x160/Hafidz/Hafidz_29.jpg\n",
            "Invalid bounding box for image: /content/drive/My Drive/Database/Foto_Resize_Rotate_160x160/Hafidz/Hafidz_67.jpg\n",
            "Invalid bounding box for image: /content/drive/My Drive/Database/Foto_Resize_Rotate_160x160/Hafidz/Hafidz_68.jpg\n",
            "No face detected in image: /content/drive/My Drive/Database/Foto_Resize_Rotate_160x160/Satwika/Satwika_3.jpg\n",
            "No face detected in image: /content/drive/My Drive/Database/Foto_Resize_Rotate_160x160/Satwika/Satwika_67.jpg\n",
            "No face detected in image: /content/drive/My Drive/Database/Foto_Resize_Rotate_160x160/Satwika/Satwika_63.jpg\n",
            "No face detected in image: /content/drive/My Drive/Database/Foto_Resize_Rotate_160x160/Satwika/Satwika_55.jpg\n",
            "No face detected in image: /content/drive/My Drive/Database/Foto_Resize_Rotate_160x160/Satwika/Satwika_59.jpg\n",
            "No face detected in image: /content/drive/My Drive/Database/Foto_Resize_Rotate_160x160/Satwika/Satwika_31.jpg\n",
            "No face detected in image: /content/drive/My Drive/Database/Foto_Resize_Rotate_160x160/Satwika/Satwika_51.jpg\n",
            "No face detected in image: /content/drive/My Drive/Database/Foto_Resize_Rotate_160x160/Satwika/Satwika_7.jpg\n",
            "No face detected in image: /content/drive/My Drive/Database/Foto_Resize_Rotate_160x160/Satwika/Satwika_11.jpg\n",
            "No face detected in image: /content/drive/My Drive/Database/Foto_Resize_Rotate_160x160/Satwika/Satwika_47.jpg\n",
            "No face detected in image: /content/drive/My Drive/Database/Foto_Resize_Rotate_160x160/Haidar/Haidar_67.jpg\n",
            "No face detected in image: /content/drive/My Drive/Database/Foto_Resize_Rotate_160x160/Khansa/Khansa_55.jpg\n",
            "No face detected in image: /content/drive/My Drive/Database/Foto_Resize_Rotate_160x160/Khansa/Khansa_11.jpg\n",
            "No face detected in image: /content/drive/My Drive/Database/Foto_Resize_Rotate_160x160/Khansa/Khansa_6.jpg\n",
            "No face detected in image: /content/drive/My Drive/Database/Foto_Resize_Rotate_160x160/Khansa/Khansa_8.jpg\n",
            "No face detected in image: /content/drive/My Drive/Database/Foto_Resize_Rotate_160x160/Khansa/Khansa_23.jpg\n",
            "No face detected in image: /content/drive/My Drive/Database/Foto_Resize_Rotate_160x160/Khansa/Khansa_79.jpg\n",
            "No face detected in image: /content/drive/My Drive/Database/Foto_Resize_Rotate_160x160/Mikhael/Mikhael_79.jpg\n",
            "Invalid bounding box for image: /content/drive/My Drive/Database/Foto_Resize_Rotate_160x160/Dimas/Dimas_45.jpg\n",
            "No face detected in image: /content/drive/My Drive/Database/Foto_Resize_Rotate_160x160/Dimas/Dimas_35.jpg\n",
            "No face detected in image: /content/drive/My Drive/Database/Foto_Resize_Rotate_160x160/Dimas/Dimas_3.jpg\n",
            "Invalid bounding box for image: /content/drive/My Drive/Database/Foto_Resize_Rotate_160x160/Dimas/Dimas_25.jpg\n",
            "No face detected in image: /content/drive/My Drive/Database/Foto_Resize_Rotate_160x160/Dimas/Dimas_43.jpg\n",
            "Invalid bounding box for image: /content/drive/My Drive/Database/Foto_Resize_Rotate_160x160/Dimas/Dimas_13.jpg\n",
            "Invalid bounding box for image: /content/drive/My Drive/Database/Foto_Resize_Rotate_160x160/Dimas/Dimas_69.jpg\n",
            "Invalid bounding box for image: /content/drive/My Drive/Database/Foto_Resize_Rotate_160x160/Fadlin/Fadlin_32.jpg\n",
            "Invalid bounding box for image: /content/drive/My Drive/Database/Foto_Resize_Rotate_160x160/Fadlin/Fadlin_30.jpg\n",
            "No face detected in image: /content/drive/My Drive/Database/Foto_Resize_Rotate_160x160/Fadlin/Fadlin_31.jpg\n",
            "Invalid bounding box for image: /content/drive/My Drive/Database/Foto_Resize_Rotate_160x160/Fadlin/Fadlin_57.jpg\n",
            "No face detected in image: /content/drive/My Drive/Database/Foto_Resize_Rotate_160x160/Fadlin/Fadlin_23.jpg\n",
            "Invalid bounding box for image: /content/drive/My Drive/Database/Foto_Resize_Rotate_160x160/Fadlin/Fadlin_60.jpg\n",
            "Invalid bounding box for image: /content/drive/My Drive/Database/Foto_Resize_Rotate_160x160/Fadlin/Fadlin_59.jpg\n",
            "No face detected in image: /content/drive/My Drive/Database/Foto_Resize_Rotate_160x160/Fadlin/Fadlin_27.jpg\n",
            "Invalid bounding box for image: /content/drive/My Drive/Database/Foto_Resize_Rotate_160x160/Fadlin/Fadlin_29.jpg\n",
            "Preprocessing completed with MediaPipe.\n"
          ]
        }
      ]
    },
    {
      "cell_type": "code",
      "source": [
        "# Step 2: Split Dataset into Train, Validation, and Test\n",
        "splitfolders.ratio(\n",
        "    '/content/drive/My Drive/Database/Preprocessed_Dataset_160x160',  # Input folder after preprocessing\n",
        "    output=\"/content/drive/My Drive/Database\",  # Output folder\n",
        "    seed=42,\n",
        "    ratio=(0.7, 0.15, 0.15)  # Train:Validation:Test ratio\n",
        ")\n",
        "print(\"Dataset splitting completed.\")"
      ],
      "metadata": {
        "colab": {
          "base_uri": "https://localhost:8080/"
        },
        "id": "CFvet1gYlQIc",
        "outputId": "4a9621a5-af58-4532-b645-2f48adb6723d",
        "collapsed": true
      },
      "execution_count": 40,
      "outputs": [
        {
          "output_type": "stream",
          "name": "stderr",
          "text": [
            "\n",
            "Copying files: 0 files [00:00, ? files/s]\u001b[A\n",
            "Copying files: 4 files [00:00, 34.56 files/s]\u001b[A\n",
            "Copying files: 9 files [00:00, 41.20 files/s]\u001b[A\n",
            "Copying files: 15 files [00:00, 47.35 files/s]\u001b[A\n",
            "Copying files: 23 files [00:00, 53.60 files/s]\u001b[A\n",
            "Copying files: 29 files [00:00, 55.24 files/s]\u001b[A\n",
            "Copying files: 35 files [00:00, 56.45 files/s]\u001b[A\n",
            "Copying files: 43 files [00:00, 63.23 files/s]\u001b[A\n",
            "Copying files: 50 files [00:00, 59.54 files/s]\u001b[A\n",
            "Copying files: 57 files [00:01, 62.34 files/s]\u001b[A\n",
            "Copying files: 64 files [00:01, 60.62 files/s]\u001b[A\n",
            "Copying files: 71 files [00:01, 56.11 files/s]\u001b[A\n",
            "Copying files: 78 files [00:01, 59.70 files/s]\u001b[A\n",
            "Copying files: 85 files [00:01, 56.95 files/s]\u001b[A\n",
            "Copying files: 92 files [00:01, 58.83 files/s]\u001b[A\n",
            "Copying files: 98 files [00:01, 58.49 files/s]\u001b[A\n",
            "Copying files: 105 files [00:01, 60.54 files/s]\u001b[A\n",
            "Copying files: 112 files [00:01, 59.10 files/s]\u001b[A\n",
            "Copying files: 119 files [00:02, 57.83 files/s]\u001b[A\n",
            "Copying files: 126 files [00:02, 58.89 files/s]\u001b[A\n",
            "Copying files: 132 files [00:02, 55.11 files/s]\u001b[A\n",
            "Copying files: 139 files [00:02, 58.69 files/s]\u001b[A\n",
            "Copying files: 145 files [00:02, 57.45 files/s]\u001b[A\n",
            "Copying files: 151 files [00:02, 55.46 files/s]\u001b[A\n",
            "Copying files: 157 files [00:02, 55.78 files/s]\u001b[A\n",
            "Copying files: 164 files [00:02, 56.82 files/s]\u001b[A\n",
            "Copying files: 170 files [00:02, 55.50 files/s]\u001b[A\n",
            "Copying files: 176 files [00:03, 55.43 files/s]\u001b[A\n",
            "Copying files: 182 files [00:03, 51.67 files/s]\u001b[A\n",
            "Copying files: 189 files [00:03, 54.84 files/s]\u001b[A\n",
            "Copying files: 195 files [00:03, 54.66 files/s]\u001b[A\n",
            "Copying files: 202 files [00:03, 57.86 files/s]\u001b[A\n",
            "Copying files: 208 files [00:03, 56.50 files/s]\u001b[A\n",
            "Copying files: 215 files [00:03, 57.20 files/s]\u001b[A\n",
            "Copying files: 221 files [00:03, 57.83 files/s]\u001b[A\n",
            "Copying files: 227 files [00:03, 58.30 files/s]\u001b[A\n",
            "Copying files: 233 files [00:04, 52.72 files/s]\u001b[A\n",
            "Copying files: 239 files [00:04, 49.31 files/s]\u001b[A\n",
            "Copying files: 246 files [00:04, 53.46 files/s]\u001b[A\n",
            "Copying files: 252 files [00:04, 53.96 files/s]\u001b[A\n",
            "Copying files: 259 files [00:04, 58.08 files/s]\u001b[A\n",
            "Copying files: 265 files [00:04, 58.25 files/s]\u001b[A\n",
            "Copying files: 271 files [00:04, 58.31 files/s]\u001b[A\n",
            "Copying files: 277 files [00:04, 56.34 files/s]\u001b[A\n",
            "Copying files: 284 files [00:05, 58.85 files/s]\u001b[A\n",
            "Copying files: 290 files [00:05, 53.73 files/s]\u001b[A\n",
            "Copying files: 296 files [00:05, 54.70 files/s]\u001b[A\n",
            "Copying files: 302 files [00:05, 53.49 files/s]\u001b[A\n",
            "Copying files: 309 files [00:05, 57.86 files/s]\u001b[A\n",
            "Copying files: 315 files [00:05, 52.91 files/s]\u001b[A\n",
            "Copying files: 322 files [00:05, 54.05 files/s]\u001b[A\n",
            "Copying files: 329 files [00:05, 56.83 files/s]\u001b[A\n",
            "Copying files: 335 files [00:05, 57.44 files/s]\u001b[A\n",
            "Copying files: 343 files [00:06, 62.07 files/s]\u001b[A\n",
            "Copying files: 350 files [00:06, 55.95 files/s]\u001b[A\n",
            "Copying files: 358 files [00:06, 57.95 files/s]\u001b[A\n",
            "Copying files: 365 files [00:06, 59.76 files/s]\u001b[A\n",
            "Copying files: 372 files [00:06, 57.67 files/s]\u001b[A\n",
            "Copying files: 380 files [00:06, 62.26 files/s]\u001b[A\n",
            "Copying files: 387 files [00:06, 57.39 files/s]\u001b[A\n",
            "Copying files: 393 files [00:06, 56.83 files/s]\u001b[A\n",
            "Copying files: 400 files [00:07, 59.31 files/s]\u001b[A\n",
            "Copying files: 407 files [00:07, 56.57 files/s]\u001b[A\n",
            "Copying files: 413 files [00:07, 56.95 files/s]\u001b[A\n",
            "Copying files: 419 files [00:07, 56.26 files/s]\u001b[A\n",
            "Copying files: 426 files [00:07, 58.72 files/s]\u001b[A\n",
            "Copying files: 432 files [00:07, 58.12 files/s]\u001b[A\n",
            "Copying files: 439 files [00:07, 58.86 files/s]\u001b[A\n",
            "Copying files: 445 files [00:07, 52.59 files/s]\u001b[A\n",
            "Copying files: 451 files [00:07, 53.85 files/s]\u001b[A\n",
            "Copying files: 458 files [00:08, 57.73 files/s]\u001b[A\n",
            "Copying files: 464 files [00:08, 50.36 files/s]\u001b[A\n",
            "Copying files: 470 files [00:08, 31.74 files/s]\u001b[A\n",
            "Copying files: 476 files [00:08, 35.18 files/s]\u001b[A\n",
            "Copying files: 482 files [00:08, 38.51 files/s]\u001b[A\n",
            "Copying files: 488 files [00:08, 42.70 files/s]\u001b[A\n",
            "Copying files: 495 files [00:09, 48.55 files/s]\u001b[A\n",
            "Copying files: 501 files [00:09, 47.46 files/s]\u001b[A\n",
            "Copying files: 507 files [00:09, 42.78 files/s]\u001b[A\n",
            "Copying files: 512 files [00:09, 43.26 files/s]\u001b[A\n",
            "Copying files: 519 files [00:09, 48.85 files/s]\u001b[A\n",
            "Copying files: 526 files [00:09, 52.69 files/s]\u001b[A\n",
            "Copying files: 534 files [00:09, 55.27 files/s]\u001b[A\n",
            "Copying files: 541 files [00:09, 58.41 files/s]\u001b[A\n",
            "Copying files: 547 files [00:10, 58.60 files/s]\u001b[A\n",
            "Copying files: 553 files [00:10, 58.20 files/s]\u001b[A\n",
            "Copying files: 559 files [00:10, 56.52 files/s]\u001b[A\n",
            "Copying files: 565 files [00:10, 53.20 files/s]\u001b[A\n",
            "Copying files: 571 files [00:10, 52.38 files/s]\u001b[A\n",
            "Copying files: 577 files [00:10, 53.25 files/s]\u001b[A\n",
            "Copying files: 583 files [00:10, 52.78 files/s]\u001b[A\n",
            "Copying files: 590 files [00:10, 55.84 files/s]\u001b[A\n",
            "Copying files: 596 files [00:10, 54.71 files/s]\u001b[A\n",
            "Copying files: 603 files [00:11, 56.41 files/s]\u001b[A\n",
            "Copying files: 609 files [00:11, 52.58 files/s]\u001b[A\n",
            "Copying files: 615 files [00:11, 54.12 files/s]\u001b[A\n",
            "Copying files: 621 files [00:11, 53.98 files/s]\u001b[A\n",
            "Copying files: 627 files [00:11, 54.63 files/s]\u001b[A\n",
            "Copying files: 633 files [00:11, 54.96 files/s]\u001b[A\n",
            "Copying files: 640 files [00:11, 58.07 files/s]\u001b[A\n",
            "Copying files: 647 files [00:11, 58.60 files/s]\u001b[A\n",
            "Copying files: 655 files [00:11, 57.56 files/s]\u001b[A\n",
            "Copying files: 662 files [00:12, 60.41 files/s]\u001b[A\n",
            "Copying files: 669 files [00:12, 56.77 files/s]\u001b[A\n",
            "Copying files: 677 files [00:12, 61.52 files/s]\u001b[A\n",
            "Copying files: 684 files [00:12, 61.01 files/s]\u001b[A\n",
            "Copying files: 691 files [00:12, 59.22 files/s]\u001b[A\n",
            "Copying files: 697 files [00:12, 59.29 files/s]\u001b[A\n",
            "Copying files: 703 files [00:12, 56.48 files/s]\u001b[A\n",
            "Copying files: 710 files [00:12, 59.26 files/s]\u001b[A\n",
            "Copying files: 716 files [00:13, 55.77 files/s]\u001b[A\n",
            "Copying files: 723 files [00:13, 58.13 files/s]\u001b[A\n",
            "Copying files: 729 files [00:13, 51.24 files/s]\u001b[A\n",
            "Copying files: 736 files [00:13, 55.12 files/s]\u001b[A\n",
            "Copying files: 742 files [00:13, 53.86 files/s]\u001b[A\n",
            "Copying files: 749 files [00:13, 56.01 files/s]\u001b[A\n",
            "Copying files: 755 files [00:13, 54.62 files/s]\u001b[A\n",
            "Copying files: 763 files [00:13, 60.56 files/s]\u001b[A\n",
            "Copying files: 770 files [00:13, 59.57 files/s]\u001b[A\n",
            "Copying files: 777 files [00:14, 57.86 files/s]\u001b[A\n",
            "Copying files: 783 files [00:14, 56.72 files/s]\u001b[A\n",
            "Copying files: 789 files [00:14, 54.19 files/s]\u001b[A\n",
            "Copying files: 795 files [00:14, 55.65 files/s]\u001b[A\n",
            "Copying files: 801 files [00:14, 55.14 files/s]\u001b[A\n",
            "Copying files: 808 files [00:14, 56.69 files/s]\u001b[A\n",
            "Copying files: 814 files [00:14, 53.93 files/s]\u001b[A\n",
            "Copying files: 822 files [00:14, 59.94 files/s]\u001b[A\n",
            "Copying files: 829 files [00:15, 55.29 files/s]\u001b[A\n",
            "Copying files: 836 files [00:15, 57.31 files/s]\u001b[A\n",
            "Copying files: 842 files [00:15, 57.69 files/s]\u001b[A\n",
            "Copying files: 848 files [00:15, 57.19 files/s]\u001b[A\n",
            "Copying files: 856 files [00:15, 61.58 files/s]\u001b[A\n",
            "Copying files: 863 files [00:15, 60.01 files/s]\u001b[A\n",
            "Copying files: 870 files [00:15, 62.62 files/s]\u001b[A\n",
            "Copying files: 877 files [00:15, 59.61 files/s]\u001b[A\n",
            "Copying files: 884 files [00:15, 57.93 files/s]\u001b[A\n",
            "Copying files: 891 files [00:16, 59.61 files/s]\u001b[A\n",
            "Copying files: 898 files [00:16, 57.26 files/s]\u001b[A\n",
            "Copying files: 904 files [00:16, 57.27 files/s]\u001b[A\n",
            "Copying files: 910 files [00:16, 54.11 files/s]\u001b[A\n",
            "Copying files: 918 files [00:16, 59.12 files/s]\u001b[A\n",
            "Copying files: 924 files [00:16, 57.83 files/s]\u001b[A\n",
            "Copying files: 930 files [00:16, 50.29 files/s]\u001b[A\n",
            "Copying files: 936 files [00:16, 51.01 files/s]\u001b[A\n",
            "Copying files: 943 files [00:17, 51.96 files/s]\u001b[A\n",
            "Copying files: 949 files [00:17, 49.74 files/s]\u001b[A\n",
            "Copying files: 955 files [00:17, 47.17 files/s]\u001b[A\n",
            "Copying files: 961 files [00:17, 49.00 files/s]\u001b[A\n",
            "Copying files: 967 files [00:17, 46.76 files/s]\u001b[A\n",
            "Copying files: 972 files [00:18, 22.92 files/s]\u001b[A\n",
            "Copying files: 976 files [00:18, 25.05 files/s]\u001b[A\n",
            "Copying files: 984 files [00:18, 34.03 files/s]\u001b[A\n",
            "Copying files: 990 files [00:18, 38.63 files/s]\u001b[A\n",
            "Copying files: 997 files [00:18, 44.31 files/s]\u001b[A\n",
            "Copying files: 1004 files [00:18, 49.52 files/s]\u001b[A\n",
            "Copying files: 1010 files [00:18, 50.40 files/s]\u001b[A\n",
            "Copying files: 1017 files [00:18, 54.38 files/s]\u001b[A\n",
            "Copying files: 1023 files [00:19, 52.99 files/s]\u001b[A\n",
            "Copying files: 1029 files [00:19, 53.80 files/s]\u001b[A\n",
            "Copying files: 1035 files [00:19, 53.40 files/s]\u001b[A\n",
            "Copying files: 1041 files [00:19, 54.53 files/s]\u001b[A\n",
            "Copying files: 1047 files [00:19, 52.08 files/s]\u001b[A\n",
            "Copying files: 1054 files [00:19, 56.72 files/s]\u001b[A\n",
            "Copying files: 1060 files [00:19, 52.24 files/s]\u001b[A\n",
            "Copying files: 1066 files [00:19, 53.49 files/s]\u001b[A\n",
            "Copying files: 1072 files [00:19, 51.94 files/s]\u001b[A\n",
            "Copying files: 1078 files [00:20, 52.61 files/s]\u001b[A\n",
            "Copying files: 1084 files [00:20, 50.66 files/s]\u001b[A\n",
            "Copying files: 1090 files [00:20, 50.08 files/s]\u001b[A\n",
            "Copying files: 1096 files [00:20, 49.26 files/s]\u001b[A\n",
            "Copying files: 1102 files [00:20, 50.75 files/s]\u001b[A\n",
            "Copying files: 1108 files [00:20, 52.42 files/s]\u001b[A\n",
            "Copying files: 1114 files [00:20, 50.94 files/s]\u001b[A\n",
            "Copying files: 1120 files [00:20, 53.16 files/s]\u001b[A\n",
            "Copying files: 1126 files [00:21, 38.56 files/s]\u001b[A\n",
            "Copying files: 1132 files [00:21, 42.24 files/s]\u001b[A\n",
            "Copying files: 1137 files [00:21, 43.12 files/s]\u001b[A\n",
            "Copying files: 1144 files [00:21, 49.13 files/s]\u001b[A\n",
            "Copying files: 1150 files [00:21, 50.93 files/s]\u001b[A\n",
            "Copying files: 1158 files [00:21, 57.46 files/s]\u001b[A\n",
            "Copying files: 1164 files [00:21, 56.68 files/s]\u001b[A\n",
            "Copying files: 1171 files [00:21, 56.28 files/s]\u001b[A\n",
            "Copying files: 1178 files [00:22, 59.32 files/s]\u001b[A\n",
            "Copying files: 1185 files [00:22, 50.43 files/s]\u001b[A\n",
            "Copying files: 1191 files [00:22, 29.94 files/s]\u001b[A\n",
            "Copying files: 1196 files [00:22, 32.99 files/s]\u001b[A\n",
            "Copying files: 1203 files [00:22, 39.36 files/s]\u001b[A\n",
            "Copying files: 1209 files [00:22, 42.92 files/s]\u001b[A\n",
            "Copying files: 1217 files [00:23, 50.01 files/s]\u001b[A\n",
            "Copying files: 1223 files [00:23, 48.10 files/s]\u001b[A\n",
            "Copying files: 1231 files [00:23, 53.89 files/s]\u001b[A\n",
            "Copying files: 1237 files [00:23, 49.04 files/s]\u001b[A\n",
            "Copying files: 1243 files [00:23, 50.60 files/s]\u001b[A\n",
            "Copying files: 1250 files [00:23, 55.14 files/s]\u001b[A\n",
            "Copying files: 1256 files [00:23, 52.77 files/s]\u001b[A\n",
            "Copying files: 1263 files [00:23, 56.81 files/s]\u001b[A\n",
            "Copying files: 1269 files [00:24, 54.42 files/s]\u001b[A\n",
            "Copying files: 1276 files [00:24, 56.84 files/s]\u001b[A\n",
            "Copying files: 1282 files [00:24, 53.76 files/s]\u001b[A\n",
            "Copying files: 1290 files [00:24, 56.27 files/s]\u001b[A\n",
            "Copying files: 1297 files [00:24, 58.17 files/s]\u001b[A\n",
            "Copying files: 1303 files [00:24, 57.37 files/s]\u001b[A\n",
            "Copying files: 1310 files [00:24, 59.65 files/s]\u001b[A\n",
            "Copying files: 1316 files [00:24, 55.32 files/s]\u001b[A\n",
            "Copying files: 1323 files [00:24, 58.32 files/s]\u001b[A\n",
            "Copying files: 1331 files [00:25, 52.96 files/s]"
          ]
        },
        {
          "output_type": "stream",
          "name": "stdout",
          "text": [
            "Dataset splitting completed.\n"
          ]
        },
        {
          "output_type": "stream",
          "name": "stderr",
          "text": [
            "\n"
          ]
        }
      ]
    },
    {
      "cell_type": "code",
      "source": [
        "# Step 3: Load Dataset with ImageDataGenerator\n",
        "datagen = ImageDataGenerator(rescale=1./255)\n",
        "\n",
        "train_dataset = datagen.flow_from_directory(\n",
        "    '/content/drive/My Drive/Database/train',\n",
        "    target_size=(160, 160),\n",
        "    batch_size=32,\n",
        "    class_mode='categorical'\n",
        ")\n",
        "\n",
        "validation_dataset = datagen.flow_from_directory(\n",
        "    '/content/drive/My Drive/Database/val',\n",
        "    target_size=(160, 160),\n",
        "    batch_size=32,\n",
        "    class_mode='categorical'\n",
        ")\n",
        "test_dataset = datagen.flow_from_directory(\n",
        "    '/content/drive/My Drive/Database/test',\n",
        "    target_size=(160, 160),\n",
        "    batch_size=32,\n",
        "    class_mode='categorical',\n",
        "    shuffle=False  # Do not shuffle for evaluation\n",
        ")"
      ],
      "metadata": {
        "colab": {
          "base_uri": "https://localhost:8080/"
        },
        "id": "jQwHIyI5mxZE",
        "outputId": "d1582e78-824c-4198-ebee-de148bb18b2b"
      },
      "execution_count": 41,
      "outputs": [
        {
          "output_type": "stream",
          "name": "stdout",
          "text": [
            "Found 927 images belonging to 15 classes.\n",
            "Found 193 images belonging to 15 classes.\n",
            "Found 211 images belonging to 15 classes.\n"
          ]
        }
      ]
    },
    {
      "cell_type": "code",
      "source": [
        "# Step 4: Build CNN Model\n",
        "model = models.Sequential([\n",
        "    layers.Conv2D(32, (3, 3), activation='relu', input_shape=(160, 160, 3)),\n",
        "    layers.MaxPooling2D((2, 2)),\n",
        "    layers.Conv2D(64, (3, 3), activation='relu'),\n",
        "    layers.MaxPooling2D((2, 2)),\n",
        "    layers.Conv2D(128, (3, 3), activation='relu'),\n",
        "    layers.MaxPooling2D((2, 2)),\n",
        "    layers.Flatten(),\n",
        "    layers.Dense(128, activation='relu'),\n",
        "    layers.Dense(len(train_dataset.class_indices), activation='softmax')  # Output = number of classes\n",
        "])\n",
        "\n",
        "model.compile(optimizer='adam',\n",
        "              loss='categorical_crossentropy',\n",
        "              metrics=['accuracy'])"
      ],
      "metadata": {
        "id": "xihtVx90nKYe",
        "colab": {
          "base_uri": "https://localhost:8080/"
        },
        "outputId": "7bd1a0ee-d981-42e0-8061-3cc4d932706b"
      },
      "execution_count": 42,
      "outputs": [
        {
          "output_type": "stream",
          "name": "stderr",
          "text": [
            "/usr/local/lib/python3.10/dist-packages/keras/src/layers/convolutional/base_conv.py:107: UserWarning: Do not pass an `input_shape`/`input_dim` argument to a layer. When using Sequential models, prefer using an `Input(shape)` object as the first layer in the model instead.\n",
            "  super().__init__(activity_regularizer=activity_regularizer, **kwargs)\n"
          ]
        }
      ]
    },
    {
      "cell_type": "code",
      "source": [
        "# Step 5: Train Model\n",
        "history = model.fit(\n",
        "    train_dataset,\n",
        "    validation_data=validation_dataset,\n",
        "    epochs=20\n",
        ")"
      ],
      "metadata": {
        "colab": {
          "base_uri": "https://localhost:8080/"
        },
        "id": "FaNfc2T4nOFA",
        "outputId": "e195d7e8-2a38-4f2d-bdd3-b22d84369e74"
      },
      "execution_count": 43,
      "outputs": [
        {
          "output_type": "stream",
          "name": "stdout",
          "text": [
            "Epoch 1/20\n"
          ]
        },
        {
          "output_type": "stream",
          "name": "stderr",
          "text": [
            "/usr/local/lib/python3.10/dist-packages/keras/src/trainers/data_adapters/py_dataset_adapter.py:122: UserWarning: Your `PyDataset` class should call `super().__init__(**kwargs)` in its constructor. `**kwargs` can include `workers`, `use_multiprocessing`, `max_queue_size`. Do not pass these arguments to `fit()`, as they will be ignored.\n",
            "  self._warn_if_super_not_called()\n"
          ]
        },
        {
          "output_type": "stream",
          "name": "stdout",
          "text": [
            "\u001b[1m29/29\u001b[0m \u001b[32m━━━━━━━━━━━━━━━━━━━━\u001b[0m\u001b[37m\u001b[0m \u001b[1m66s\u001b[0m 2s/step - accuracy: 0.1129 - loss: 2.6932 - val_accuracy: 0.2953 - val_loss: 2.2110\n",
            "Epoch 2/20\n",
            "\u001b[1m29/29\u001b[0m \u001b[32m━━━━━━━━━━━━━━━━━━━━\u001b[0m\u001b[37m\u001b[0m \u001b[1m58s\u001b[0m 2s/step - accuracy: 0.4051 - loss: 1.9020 - val_accuracy: 0.5648 - val_loss: 1.3376\n",
            "Epoch 3/20\n",
            "\u001b[1m29/29\u001b[0m \u001b[32m━━━━━━━━━━━━━━━━━━━━\u001b[0m\u001b[37m\u001b[0m \u001b[1m61s\u001b[0m 2s/step - accuracy: 0.6811 - loss: 1.0610 - val_accuracy: 0.7098 - val_loss: 1.0030\n",
            "Epoch 4/20\n",
            "\u001b[1m29/29\u001b[0m \u001b[32m━━━━━━━━━━━━━━━━━━━━\u001b[0m\u001b[37m\u001b[0m \u001b[1m80s\u001b[0m 2s/step - accuracy: 0.8090 - loss: 0.6473 - val_accuracy: 0.7047 - val_loss: 0.8667\n",
            "Epoch 5/20\n",
            "\u001b[1m29/29\u001b[0m \u001b[32m━━━━━━━━━━━━━━━━━━━━\u001b[0m\u001b[37m\u001b[0m \u001b[1m86s\u001b[0m 2s/step - accuracy: 0.9182 - loss: 0.2926 - val_accuracy: 0.6943 - val_loss: 0.9882\n",
            "Epoch 6/20\n",
            "\u001b[1m29/29\u001b[0m \u001b[32m━━━━━━━━━━━━━━━━━━━━\u001b[0m\u001b[37m\u001b[0m \u001b[1m59s\u001b[0m 2s/step - accuracy: 0.9262 - loss: 0.2250 - val_accuracy: 0.7150 - val_loss: 1.0945\n",
            "Epoch 7/20\n",
            "\u001b[1m29/29\u001b[0m \u001b[32m━━━━━━━━━━━━━━━━━━━━\u001b[0m\u001b[37m\u001b[0m \u001b[1m61s\u001b[0m 2s/step - accuracy: 0.9430 - loss: 0.2187 - val_accuracy: 0.7409 - val_loss: 0.8402\n",
            "Epoch 8/20\n",
            "\u001b[1m29/29\u001b[0m \u001b[32m━━━━━━━━━━━━━━━━━━━━\u001b[0m\u001b[37m\u001b[0m \u001b[1m80s\u001b[0m 2s/step - accuracy: 0.9813 - loss: 0.0786 - val_accuracy: 0.7668 - val_loss: 0.7499\n",
            "Epoch 9/20\n",
            "\u001b[1m29/29\u001b[0m \u001b[32m━━━━━━━━━━━━━━━━━━━━\u001b[0m\u001b[37m\u001b[0m \u001b[1m86s\u001b[0m 2s/step - accuracy: 0.9892 - loss: 0.0357 - val_accuracy: 0.7772 - val_loss: 0.9339\n",
            "Epoch 10/20\n",
            "\u001b[1m29/29\u001b[0m \u001b[32m━━━━━━━━━━━━━━━━━━━━\u001b[0m\u001b[37m\u001b[0m \u001b[1m58s\u001b[0m 2s/step - accuracy: 0.9888 - loss: 0.0395 - val_accuracy: 0.8083 - val_loss: 0.9469\n",
            "Epoch 11/20\n",
            "\u001b[1m29/29\u001b[0m \u001b[32m━━━━━━━━━━━━━━━━━━━━\u001b[0m\u001b[37m\u001b[0m \u001b[1m84s\u001b[0m 2s/step - accuracy: 0.9938 - loss: 0.0243 - val_accuracy: 0.8290 - val_loss: 0.7859\n",
            "Epoch 12/20\n",
            "\u001b[1m29/29\u001b[0m \u001b[32m━━━━━━━━━━━━━━━━━━━━\u001b[0m\u001b[37m\u001b[0m \u001b[1m60s\u001b[0m 2s/step - accuracy: 0.9962 - loss: 0.0169 - val_accuracy: 0.8031 - val_loss: 0.7556\n",
            "Epoch 13/20\n",
            "\u001b[1m29/29\u001b[0m \u001b[32m━━━━━━━━━━━━━━━━━━━━\u001b[0m\u001b[37m\u001b[0m \u001b[1m86s\u001b[0m 2s/step - accuracy: 0.9975 - loss: 0.0166 - val_accuracy: 0.8187 - val_loss: 0.9669\n",
            "Epoch 14/20\n",
            "\u001b[1m29/29\u001b[0m \u001b[32m━━━━━━━━━━━━━━━━━━━━\u001b[0m\u001b[37m\u001b[0m \u001b[1m60s\u001b[0m 2s/step - accuracy: 0.9912 - loss: 0.0369 - val_accuracy: 0.7409 - val_loss: 1.0719\n",
            "Epoch 15/20\n",
            "\u001b[1m29/29\u001b[0m \u001b[32m━━━━━━━━━━━━━━━━━━━━\u001b[0m\u001b[37m\u001b[0m \u001b[1m58s\u001b[0m 2s/step - accuracy: 0.9887 - loss: 0.0404 - val_accuracy: 0.7617 - val_loss: 0.8711\n",
            "Epoch 16/20\n",
            "\u001b[1m29/29\u001b[0m \u001b[32m━━━━━━━━━━━━━━━━━━━━\u001b[0m\u001b[37m\u001b[0m \u001b[1m60s\u001b[0m 2s/step - accuracy: 0.9969 - loss: 0.0164 - val_accuracy: 0.7720 - val_loss: 0.9387\n",
            "Epoch 17/20\n",
            "\u001b[1m29/29\u001b[0m \u001b[32m━━━━━━━━━━━━━━━━━━━━\u001b[0m\u001b[37m\u001b[0m \u001b[1m83s\u001b[0m 2s/step - accuracy: 1.0000 - loss: 0.0045 - val_accuracy: 0.7876 - val_loss: 0.9472\n",
            "Epoch 18/20\n",
            "\u001b[1m29/29\u001b[0m \u001b[32m━━━━━━━━━━━━━━━━━━━━\u001b[0m\u001b[37m\u001b[0m \u001b[1m80s\u001b[0m 2s/step - accuracy: 1.0000 - loss: 0.0020 - val_accuracy: 0.8031 - val_loss: 0.9401\n",
            "Epoch 19/20\n",
            "\u001b[1m29/29\u001b[0m \u001b[32m━━━━━━━━━━━━━━━━━━━━\u001b[0m\u001b[37m\u001b[0m \u001b[1m83s\u001b[0m 2s/step - accuracy: 1.0000 - loss: 6.6984e-04 - val_accuracy: 0.8083 - val_loss: 0.9620\n",
            "Epoch 20/20\n",
            "\u001b[1m29/29\u001b[0m \u001b[32m━━━━━━━━━━━━━━━━━━━━\u001b[0m\u001b[37m\u001b[0m \u001b[1m81s\u001b[0m 2s/step - accuracy: 1.0000 - loss: 4.7371e-04 - val_accuracy: 0.8135 - val_loss: 0.9735\n"
          ]
        }
      ]
    },
    {
      "cell_type": "code",
      "source": [
        "# Step 6: Save the Model\n",
        "model.save('face_recognition_model.h5')\n",
        "print(\"Model training completed and saved.\")"
      ],
      "metadata": {
        "colab": {
          "base_uri": "https://localhost:8080/"
        },
        "id": "P7VAOx68SK2E",
        "outputId": "34a84220-f536-4f0c-9ed7-e1eecbe884e8"
      },
      "execution_count": 44,
      "outputs": [
        {
          "output_type": "stream",
          "name": "stderr",
          "text": [
            "WARNING:absl:You are saving your model as an HDF5 file via `model.save()` or `keras.saving.save_model(model)`. This file format is considered legacy. We recommend using instead the native Keras format, e.g. `model.save('my_model.keras')` or `keras.saving.save_model(model, 'my_model.keras')`. \n"
          ]
        },
        {
          "output_type": "stream",
          "name": "stdout",
          "text": [
            "Model training completed and saved.\n"
          ]
        }
      ]
    },
    {
      "cell_type": "code",
      "source": [
        "# Step 7: Evaluate Model on Test Set\n",
        "test_loss, test_acc = model.evaluate(test_dataset)\n",
        "print(f\"Test Accuracy: {test_acc:.2f}\")"
      ],
      "metadata": {
        "colab": {
          "base_uri": "https://localhost:8080/"
        },
        "id": "U4TKRL-AZBgm",
        "outputId": "5e310f2b-57b9-4b92-f8f3-e0aaa5658931"
      },
      "execution_count": 45,
      "outputs": [
        {
          "output_type": "stream",
          "name": "stdout",
          "text": [
            "\u001b[1m7/7\u001b[0m \u001b[32m━━━━━━━━━━━━━━━━━━━━\u001b[0m\u001b[37m\u001b[0m \u001b[1m6s\u001b[0m 834ms/step - accuracy: 0.8290 - loss: 1.2048\n",
            "Test Accuracy: 0.83\n"
          ]
        }
      ]
    },
    {
      "cell_type": "code",
      "source": [
        "# Step 8: Generate Confusion Matrix\n",
        "Y_pred = model.predict(test_dataset)\n",
        "y_pred_classes = np.argmax(Y_pred, axis=1)  # Predicted class\n",
        "y_true = test_dataset.classes  # True labels\n",
        "\n",
        "# Confusion Matrix\n",
        "cm = confusion_matrix(y_true, y_pred_classes)\n",
        "\n",
        "# Plot Confusion Matrix\n",
        "plt.figure(figsize=(10, 8))\n",
        "sns.heatmap(cm, annot=True, fmt=\"d\", cmap=\"Blues\", xticklabels=test_dataset.class_indices.keys(), yticklabels=test_dataset.class_indices.keys())\n",
        "plt.xlabel(\"Predicted\")\n",
        "plt.ylabel(\"True\")\n",
        "plt.title(\"Confusion Matrix\")\n",
        "plt.show()\n",
        "\n",
        "# Classification Report\n",
        "report = classification_report(y_true, y_pred_classes, target_names=test_dataset.class_indices.keys())\n",
        "print(\"Classification Report:\")\n",
        "print(report)"
      ],
      "metadata": {
        "colab": {
          "base_uri": "https://localhost:8080/",
          "height": 1000
        },
        "id": "n27SzeT4ZQHh",
        "outputId": "d8a20e4a-a6ff-4959-e7c9-1e7f1e8d2ae3"
      },
      "execution_count": 46,
      "outputs": [
        {
          "output_type": "stream",
          "name": "stdout",
          "text": [
            "\u001b[1m7/7\u001b[0m \u001b[32m━━━━━━━━━━━━━━━━━━━━\u001b[0m\u001b[37m\u001b[0m \u001b[1m6s\u001b[0m 724ms/step\n"
          ]
        },
        {
          "output_type": "display_data",
          "data": {
            "text/plain": [
              "<Figure size 1000x800 with 2 Axes>"
            ],
            "image/png": "[encoded data removed]"
          },
          "metadata": {}
        },
        {
          "output_type": "stream",
          "name": "stdout",
          "text": [
            "Classification Report:\n",
            "              precision    recall  f1-score   support\n",
            "\n",
            "      Azmira       1.00      0.75      0.86        12\n",
            "       David       0.94      0.94      0.94        18\n",
            "       Dimas       0.53      0.67      0.59        12\n",
            "      Fadhli       0.92      1.00      0.96        12\n",
            "      Fadlin       0.94      0.94      0.94        16\n",
            "      Hafidz       0.67      0.36      0.47        11\n",
            "      Haidar       0.80      0.62      0.70        13\n",
            "       Hanna       0.92      1.00      0.96        12\n",
            "       Keiko       0.78      0.95      0.86        22\n",
            "      Khansa       0.60      0.50      0.55        12\n",
            "     Mikhael       0.71      0.77      0.74        13\n",
            "        Puti       1.00      0.92      0.96        12\n",
            "       Raesa       0.65      0.92      0.76        12\n",
            "     Satwika       1.00      0.91      0.95        11\n",
            "        Toni       0.95      0.91      0.93        23\n",
            "\n",
            "    accuracy                           0.83       211\n",
            "   macro avg       0.83      0.81      0.81       211\n",
            "weighted avg       0.84      0.83      0.83       211\n",
            "\n"
          ]
        }
      ]
    }
  ]
}