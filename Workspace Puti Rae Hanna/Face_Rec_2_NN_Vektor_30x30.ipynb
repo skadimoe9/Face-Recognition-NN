{
  "cells": [
    {
      "cell_type": "markdown",
      "metadata": {
        "id": "yuN56zHdpEK4"
      },
      "source": [
        "#**FACE RECOGNITION**\n",
        "\n",
        "---\n",
        "BPNN Vektoral 30x30 | Train-Testing"
      ]
    },
    {
      "cell_type": "markdown",
      "metadata": {
        "id": "YCNf-J_aFSVA"
      },
      "source": [
        "##**Import Libraries**"
      ]
    },
    {
      "cell_type": "code",
      "execution_count": 2,
      "metadata": {
        "colab": {
          "base_uri": "https://localhost:8080/"
        },
        "id": "xa7tHsIkFS6b",
        "outputId": "5c230bb7-6854-44bb-f910-7a8798027a12"
      },
      "outputs": [
        {
          "output_type": "stream",
          "name": "stdout",
          "text": [
            "Mounted at /content/drive\n"
          ]
        }
      ],
      "source": [
        "from google.colab import drive\n",
        "drive.mount('/content/drive')"
      ]
    },
    {
      "cell_type": "code",
      "source": [
        "import math\n",
        "import random\n",
        "import string\n",
        "import cv2\n",
        "import os\n",
        "import numpy as np\n",
        "import pandas as pd\n",
        "import matplotlib.pyplot as plt\n",
        "from PIL import Image\n",
        "import seaborn as sns\n",
        "from sklearn.metrics import accuracy_score, classification_report, confusion_matrix"
      ],
      "metadata": {
        "id": "vyhsY_aZdYor"
      },
      "execution_count": 3,
      "outputs": []
    },
    {
      "cell_type": "markdown",
      "metadata": {
        "id": "szYDSuUGy8p1"
      },
      "source": [
        "\n",
        "##**Pemrosesan Gambar**"
      ]
    },
    {
      "cell_type": "code",
      "source": [
        "# Path ke dataset di Google Drive\n",
        "input_path = \"/content/drive/My Drive/FaceRec_NN/INVALID_data30x30\""
      ],
      "metadata": {
        "id": "KVIkMlmx8Y9k"
      },
      "execution_count": 4,
      "outputs": []
    },
    {
      "cell_type": "markdown",
      "source": [
        "**Flatten Data**"
      ],
      "metadata": {
        "id": "8xa1cGmy8P2I"
      }
    },
    {
      "cell_type": "code",
      "source": [
        "def flatten_image(input_directory):\n",
        "    # List all folders in the input directory\n",
        "    folders = [f for f in os.listdir(input_directory) if os.path.isdir(os.path.join(input_directory, f))]\n",
        "    print(f\"Found folders: {folders}\")\n",
        "\n",
        "    # Initialize arrays for inputs and outputs\n",
        "    X = []\n",
        "    y = []\n",
        "\n",
        "    # Create a mapping from folder names to one-hot encoded labels\n",
        "    label_map = {folder: idx for idx, folder in enumerate(folders)}\n",
        "    num_classes = len(folders)\n",
        "\n",
        "    # Process each folder and photo\n",
        "    for folder in folders:\n",
        "        folder_path = os.path.join(input_directory, folder)\n",
        "\n",
        "        # Sort the list of photos to ensure consistent order\n",
        "        photos = sorted([p for p in os.listdir(folder_path) if p.endswith(('.png', '.jpg', '.jpeg'))])\n",
        "\n",
        "        for photo in photos:\n",
        "            photo_path = os.path.join(folder_path, photo)\n",
        "            image = Image.open(photo_path)\n",
        "\n",
        "            # Convert the image to a numpy array and flatten it\n",
        "            image_array = np.array(image).flatten()\n",
        "            X.append(image_array)\n",
        "\n",
        "            # Create a one-hot encoded label\n",
        "            label = np.zeros(num_classes)\n",
        "            label[label_map[folder]] = 1\n",
        "            y.append(label)\n",
        "\n",
        "    # Convert lists to numpy arrays\n",
        "    X = np.array(X)\n",
        "    y = np.array(y)\n",
        "\n",
        "    return X, y"
      ],
      "metadata": {
        "id": "IVYqWwb_8PLP"
      },
      "execution_count": 5,
      "outputs": []
    },
    {
      "cell_type": "markdown",
      "source": [
        "**Normalisasi Data**"
      ],
      "metadata": {
        "id": "2_GYVJCc8c7O"
      }
    },
    {
      "cell_type": "code",
      "source": [
        "class NormalizeImage:\n",
        "    def __init__(self, data):\n",
        "        self.data = data\n",
        "\n",
        "    def transform(self):\n",
        "        #modified so the range of normalized data is [-1, 1]\n",
        "        return self.data/255\n",
        "\n",
        "    def inverse_transform(self):\n",
        "        return self.data*255"
      ],
      "metadata": {
        "id": "6nciq7oW8ciJ"
      },
      "execution_count": 6,
      "outputs": []
    },
    {
      "cell_type": "markdown",
      "source": [
        "##**Split Data (Train-Testing)**"
      ],
      "metadata": {
        "id": "evAwk0xQXNFU"
      }
    },
    {
      "cell_type": "code",
      "source": [
        "def split_train_test(combined_array):\n",
        "    np.random.shuffle(combined_array)\n",
        "    # Calculate the split indices\n",
        "    num_samples = combined_array.shape[0]\n",
        "    train_end = int(0.7 * num_samples) # 70% of the data is used for training\n",
        "\n",
        "    # Split the data into training, testing, and validation sets\n",
        "    train_data = combined_array[:train_end]\n",
        "    test_data = combined_array[train_end:]\n",
        "\n",
        "    return train_data, test_data\n",
        "\n",
        "def split_input_output(data, num_input_features):\n",
        "    X_data = data[:, :num_input_features]\n",
        "    y_data = data[:, num_input_features:]\n",
        "    return X_data, y_data"
      ],
      "metadata": {
        "id": "Y1CVI0Mo5BhH"
      },
      "execution_count": 11,
      "outputs": []
    },
    {
      "cell_type": "code",
      "source": [
        "X, y = flatten_image(input_path)\n",
        "\n",
        "scalerinput = NormalizeImage(X)\n",
        "X_normalized = scalerinput.transform()\n",
        "combined_array = np.hstack((X_normalized, y))\n",
        "\n",
        "train_data, test_data = split_train_test(combined_array)\n",
        "num_input_features = X.shape[1]\n",
        "X_train, y_train = split_input_output(train_data, num_input_features)\n",
        "X_test, y_test = split_input_output(test_data, num_input_features)\n",
        "\n",
        "print(f\"Training data  : {X_train.shape}, {y_train.shape}\")\n",
        "print(f\"Testing data   : {X_test.shape}, {y_test.shape}\")"
      ],
      "metadata": {
        "colab": {
          "base_uri": "https://localhost:8080/"
        },
        "id": "xl7yEe2a8jFU",
        "outputId": "e1088fb7-fb56-4167-faa7-2c8cff1cb0c1"
      },
      "execution_count": 12,
      "outputs": [
        {
          "output_type": "stream",
          "name": "stdout",
          "text": [
            "Found folders: ['Toni', 'Keiko', 'Fadhli', 'Fadlin', 'David', 'Azmira', 'Dimas', 'Hafidz', 'Haidar', 'Hanna', 'Khansa', 'Mikhael', 'Puti', 'Raesa', 'Satwika']\n",
            "Training data  : (968, 900), (968, 15)\n",
            "Testing data   : (416, 900), (416, 15)\n"
          ]
        }
      ]
    },
    {
      "cell_type": "markdown",
      "metadata": {
        "id": "EzS37qsD_X9u"
      },
      "source": [
        "##**Implementasi Kode**"
      ]
    },
    {
      "cell_type": "markdown",
      "metadata": {
        "id": "bcUO0eSFE17W"
      },
      "source": [
        "**Fungsi Aktivasi**"
      ]
    },
    {
      "cell_type": "code",
      "execution_count": 14,
      "metadata": {
        "id": "DHbGs4YYFaak"
      },
      "outputs": [],
      "source": [
        "# fungsi sigmoid\n",
        "def sigmoid(x):\n",
        "    return 1 / (1 + np.exp(-x))\n",
        "\n",
        "def d_sigmoid(x):\n",
        "    return sigmoid(x) * (1 - sigmoid(x))\n",
        "\n",
        "# fungsi RELu\n",
        "def relu(x):\n",
        "    return np.maximum(0, x)\n",
        "\n",
        "def d_relu(x):\n",
        "    return np.where(x > 0, 1, 0)\n",
        "\n",
        "# fungsi softmax\n",
        "def softmax(x):\n",
        "    exps = np.exp(x - np.max(x))  # Stabilize softmax by subtracting max\n",
        "    return exps / np.sum(exps)\n",
        "\n",
        "def d_softmax(x):\n",
        "    return softmax(x) * (1 - softmax(x))"
      ]
    },
    {
      "cell_type": "markdown",
      "metadata": {
        "id": "umjHO9IKFUzV"
      },
      "source": [
        "**Insialisasi**"
      ]
    },
    {
      "cell_type": "markdown",
      "metadata": {
        "id": "tGyLhcRw1648"
      },
      "source": [
        "(1) Parameter"
      ]
    },
    {
      "cell_type": "code",
      "execution_count": 25,
      "metadata": {
        "id": "UU_b7C_oFkGD"
      },
      "outputs": [],
      "source": [
        "epoch = 10000\n",
        "lr = 0.05            # learning rate\n",
        "stoping_tr = 0.01    # batas error\n",
        "\n",
        "NI = 900             # input neuron (node) 30x30\n",
        "NH = 64              # hidden neuron (node)\n",
        "hiddenLayer = 1\n",
        "NO = 15              # output neuron (node)"
      ]
    },
    {
      "cell_type": "markdown",
      "metadata": {
        "id": "DrHzWfOCuCKj"
      },
      "source": [
        "(2) Bobot (Weight)"
      ]
    },
    {
      "cell_type": "code",
      "execution_count": 26,
      "metadata": {
        "id": "wEnJawiOe7Ru"
      },
      "outputs": [],
      "source": [
        "def weightsd(NI, NH, NO, seed=42):\n",
        "    \"\"\"\n",
        "    Inisialisasi bobot dengan menggunakan He Initialization\n",
        "    \"\"\"\n",
        "    rng = np.random.default_rng(seed)  # Inisialisasi RNG dengan seed\n",
        "    std = math.sqrt(2.0 / NI)          # Standar deviasi untuk He Initialization\n",
        "\n",
        "    v_weights = rng.normal(0, std, (NI, NH))  # Bobot input-hidden\n",
        "    vb_weights = rng.normal(0, std, (1, NH))  # Bias hidden\n",
        "    w_weights = rng.normal(0, std, (NH, NO))  # Bobot hidden-output\n",
        "    wb_weights = rng.normal(0, std, (1, NO))  # Bias output\n",
        "\n",
        "    return v_weights, vb_weights, w_weights, wb_weights"
      ]
    },
    {
      "cell_type": "code",
      "execution_count": 27,
      "metadata": {
        "colab": {
          "base_uri": "https://localhost:8080/"
        },
        "id": "MD0O8SJ0uDMZ",
        "outputId": "b2135993-910f-4b37-d20f-71a2e71955d1"
      },
      "outputs": [
        {
          "output_type": "stream",
          "name": "stdout",
          "text": [
            "Rentang v :  -0.20690484575751364 0.2360433324986031\n",
            "(900, 64)\n",
            "Rentang vb:  -0.1313621731783457 0.09961085425917048\n",
            "(1, 64)\n",
            "Rentang w :  -0.14565627430298533 0.16919191353529503\n",
            "(64, 15)\n",
            "Rentang wb:  -0.12832417556137854 0.06879327793110158\n",
            "(1, 15)\n"
          ]
        }
      ],
      "source": [
        "v, vb, w, wb = weightsd(NI, NH, NO)\n",
        "\n",
        "print(\"Rentang v : \", v.min(), v.max())\n",
        "print(np.shape(v))\n",
        "print(\"Rentang vb: \", vb.min(), vb.max())\n",
        "print(np.shape(vb))\n",
        "print(\"Rentang w : \", w.min(), w.max())\n",
        "print(np.shape(w))\n",
        "print(\"Rentang wb: \", wb.min(), wb.max())\n",
        "print(np.shape(wb))"
      ]
    },
    {
      "cell_type": "markdown",
      "metadata": {
        "id": "uABtUv01ndln"
      },
      "source": [
        "**BPNN**"
      ]
    },
    {
      "cell_type": "markdown",
      "metadata": {
        "id": "bNbs6x8myrR1"
      },
      "source": [
        "(1) Feedforward"
      ]
    },
    {
      "cell_type": "code",
      "execution_count": 28,
      "metadata": {
        "id": "vfeyv_6a2Ysh"
      },
      "outputs": [],
      "source": [
        "def feedForward(x, v, vb, w, wb):\n",
        "    # sinyal unit hidden\n",
        "    z_in = np.dot(x, v) + vb   # sinyal input unit hidden\n",
        "    z = relu(z_in)             # sinyal output unit hidden dengan f.aktivasi\n",
        "\n",
        "    # sinyal unit output\n",
        "    y_in = np.dot(z, w) + wb   # sinyal input unit output\n",
        "    y = softmax(y_in)          # sinyal output unit output dengan f.aktivasi\n",
        "\n",
        "\n",
        "    # Flatten activation to avoid shape issues\n",
        "    z_in = z_in.flatten()\n",
        "    z = z.flatten()\n",
        "    y_in = y_in.flatten()\n",
        "    y = y.flatten()\n",
        "\n",
        "    return z_in, z, y_in, y"
      ]
    },
    {
      "cell_type": "markdown",
      "metadata": {
        "id": "sIWoB_rr2ZRL"
      },
      "source": [
        "(2) Backpropagation of Error"
      ]
    },
    {
      "cell_type": "code",
      "execution_count": 29,
      "metadata": {
        "id": "ArPJmjzh2Zzm"
      },
      "outputs": [],
      "source": [
        "def backPropagation(x, t, z, z_in, y, y_in, v, vb, w, wb, NH, NO, lr):\n",
        "    delta_y = (t - y) * d_softmax(y_in) # error unit output\n",
        "    del_w = lr * np.outer(z, delta_y)   # koreksi bobot unit output\n",
        "    del_wb = lr * delta_y               # koreksi bobot bias unit output\n",
        "\n",
        "    delta_zin = np.dot(delta_y, w.T)    # error unit hidden\n",
        "    delta_z = delta_zin * d_relu(z_in)  # aktivasi koreksi error unit hidden\n",
        "    del_v = lr * np.outer(x, delta_z)   # koreksi bobot unit hidden\n",
        "    del_vb = lr * delta_z               # koreksi bobot bias unit hidden\n",
        "\n",
        "    # update bobot dan bias unit output\n",
        "    w += del_w\n",
        "    wb += del_wb\n",
        "\n",
        "    # update bobot dan bias unit hedden\n",
        "    v += del_v\n",
        "    vb += del_vb\n",
        "\n",
        "    return v, vb, w, wb"
      ]
    },
    {
      "cell_type": "markdown",
      "metadata": {
        "id": "WVikgfQ72rRh"
      },
      "source": [
        "(3) **Training Model**"
      ]
    },
    {
      "cell_type": "code",
      "execution_count": 30,
      "metadata": {
        "colab": {
          "base_uri": "https://localhost:8080/"
        },
        "id": "bRE_FY1k_kqJ",
        "outputId": "931daacc-e363-4794-9f39-6b0329702975"
      },
      "outputs": [
        {
          "output_type": "stream",
          "name": "stdout",
          "text": [
            "Epoch: 1/10000, Error:  2.64646\n",
            "Epoch: 101/10000, Error:  0.01198\n",
            "Epoch: 201/10000, Error:  0.01151\n",
            "Epoch: 301/10000, Error:  0.01086\n",
            "Early stopping triggered at epoch 370 with error  0.0100.\n"
          ]
        }
      ],
      "source": [
        "for e in range(epoch):\n",
        "    total_error_cross_entropy = 0\n",
        "\n",
        "    for i in range(len(X_train)):\n",
        "        x = X_train[i]\n",
        "        t = y_train[i]\n",
        "\n",
        "        z_in, z, y_in, y = feedForward(x, v, vb, w, wb)\n",
        "        v, vb, w, wb = backPropagation(x, t, z, z_in, y, y_in, v, vb, w, wb, NH, NO, lr)\n",
        "\n",
        "        cross_entropy = -np.sum(t * np.log(y + 1e-15))\n",
        "        total_error_cross_entropy += cross_entropy\n",
        "\n",
        "    # Average error for the epoch\n",
        "    avg_error = total_error_cross_entropy / len(X_train)\n",
        "\n",
        "    if e % 100 == 0 or e == epoch - 1:\n",
        "        print(f\"Epoch: {e + 1}/{epoch}, Error: {avg_error: .5f}\")\n",
        "\n",
        "    # Early stopping condition\n",
        "    if avg_error < stoping_tr or e == epoch - 1:\n",
        "        print(f\"Early stopping triggered at epoch {e + 1} with error {avg_error: .4f}.\")\n",
        "        break"
      ]
    },
    {
      "cell_type": "markdown",
      "metadata": {
        "id": "hAvSK5bi_hfC"
      },
      "source": [
        "##**Evaluasi**"
      ]
    },
    {
      "cell_type": "code",
      "execution_count": 31,
      "metadata": {
        "id": "WVsD9bGp1c06",
        "colab": {
          "base_uri": "https://localhost:8080/",
          "height": 778
        },
        "outputId": "da381245-d278-4e39-f1f9-11bd81585dc3"
      },
      "outputs": [
        {
          "output_type": "stream",
          "name": "stdout",
          "text": [
            "Testing Accuracy: 90.14%\n"
          ]
        },
        {
          "output_type": "display_data",
          "data": {
            "text/plain": [
              "<Figure size 1000x800 with 2 Axes>"
            ],
            "image/png": "[encoded data removed]"
          },
          "metadata": {}
        }
      ],
      "source": [
        "# Evaluasi model\n",
        "y_preds = []\n",
        "for x in X_test:\n",
        "    _, _, _, y = feedForward(x, v, vb, w, wb)\n",
        "    y_preds.append(np.argmax(y))  # Prediksi kelas berdasarkan output softmax\n",
        "\n",
        "accuracy = accuracy_score(np.argmax(y_test, axis=1), y_preds)\n",
        "print(f\"Testing Accuracy: {accuracy:.2%}\")\n",
        "\n",
        "# berdasarkan flattend data\n",
        "class_names = [\"Toni\", 'Keiko', 'Fadhli', 'Fadlin', 'David',\n",
        "               'Azmira', 'Dimas', 'Hafidz', 'Haidar', 'Hanna',\n",
        "               'Khansa', 'Mikhael', 'Puti', 'Raesa', 'Satwika']\n",
        "\n",
        "cm = confusion_matrix(np.argmax(y_test, axis=1), y_preds)\n",
        "\n",
        "# Visualisasi Confusion Matrix\n",
        "plt.figure(figsize=(10, 8))\n",
        "sns.heatmap(cm, annot=True, fmt=\"d\", cmap=\"Blues\",\n",
        "            xticklabels=class_names, yticklabels=class_names)\n",
        "plt.xlabel(\"Predicted Labels\", weight = 'bold')\n",
        "plt.ylabel(\"True Labels\", weight = 'bold')\n",
        "plt.title(\"Confusion Matrix\", fontsize = 14, weight = 'bold')\n",
        "plt.show()"
      ]
    },
    {
      "cell_type": "markdown",
      "metadata": {
        "id": "M0-Iab3X_l5Y"
      },
      "source": [
        "#**CONCLUSION**\n",
        "---\n"
      ]
    },
    {
      "cell_type": "code",
      "source": [],
      "metadata": {
        "id": "LEH0LAUEJWYU"
      },
      "execution_count": null,
      "outputs": []
    }
  ],
  "metadata": {
    "colab": {
      "provenance": []
    },
    "kernelspec": {
      "display_name": "Python 3",
      "name": "python3"
    },
    "language_info": {
      "name": "python"
    }
  },
  "nbformat": 4,
  "nbformat_minor": 0
}