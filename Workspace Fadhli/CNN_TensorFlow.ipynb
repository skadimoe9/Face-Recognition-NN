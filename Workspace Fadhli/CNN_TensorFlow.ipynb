{
  "cells": [
    {
      "cell_type": "code",
      "execution_count": null,
      "metadata": {
        "colab": {
          "base_uri": "https://localhost:8080/"
        },
        "id": "mk-qdKor1uSN",
        "outputId": "9a5afa22-2706-450e-cd4e-b4021fed3b4f"
      },
      "outputs": [
        {
          "name": "stdout",
          "output_type": "stream",
          "text": [
            "Collecting split-foldersNote: you may need to restart the kernel to use updated packages.\n"
          ]
        },
        {
          "name": "stderr",
          "output_type": "stream",
          "text": [
            "WARNING: Error parsing dependencies of celery: Expected matching RIGHT_PARENTHESIS for LEFT_PARENTHESIS, after version specifier\n",
            "    pytz (>dev)\n",
            "         ~^\n",
            "\n",
            "[notice] A new release of pip is available: 24.1 -> 24.3.1\n",
            "[notice] To update, run: python.exe -m pip install --upgrade pip\n"
          ]
        },
        {
          "name": "stdout",
          "output_type": "stream",
          "text": [
            "\n",
            "  Downloading split_folders-0.5.1-py3-none-any.whl.metadata (6.2 kB)\n",
            "Downloading split_folders-0.5.1-py3-none-any.whl (8.4 kB)\n",
            "Installing collected packages: split-folders\n",
            "Successfully installed split-folders-0.5.1\n"
          ]
        }
      ],
      "source": [
        "#pip install split-folders\n"
      ]
    },
    {
      "cell_type": "code",
      "execution_count": null,
      "metadata": {
        "colab": {
          "base_uri": "https://localhost:8080/"
        },
        "collapsed": true,
        "id": "m-75j9MYEqOk",
        "outputId": "9f92e9b4-65a4-4713-c389-0149a7c9c62e"
      },
      "outputs": [
        {
          "name": "stdout",
          "output_type": "stream",
          "text": [
            "^C\n",
            "Note: you may need to restart the kernel to use updated packages.\n"
          ]
        }
      ],
      "source": [
        "#pip install mediapipe"
      ]
    },
    {
      "cell_type": "code",
      "execution_count": 15,
      "metadata": {
        "id": "hkiEQCW_vIo3"
      },
      "outputs": [],
      "source": [
        "import tensorflow as tf\n",
        "from tensorflow.keras.preprocessing.image import ImageDataGenerator\n",
        "from tensorflow.keras import layers, models\n",
        "import mediapipe as mp\n",
        "import cv2\n",
        "import os\n",
        "import splitfolders\n",
        "import numpy as np\n",
        "from sklearn.metrics import classification_report, confusion_matrix\n",
        "import seaborn as sns\n",
        "import matplotlib.pyplot as plt"
      ]
    },
    {
      "cell_type": "code",
      "execution_count": 8,
      "metadata": {
        "id": "K07JSHZ6zxKv"
      },
      "outputs": [],
      "source": [
        "# Step 1: Preprocess Data with MediaPipe\n",
        "def preprocess_with_mediapipe(input_folder, output_folder):\n",
        "    mp_face_detection = mp.solutions.face_detection\n",
        "    face_detection = mp_face_detection.FaceDetection(min_detection_confidence=0.5)\n",
        "\n",
        "    if not os.path.exists(output_folder):\n",
        "        os.makedirs(output_folder)\n",
        "\n",
        "    for label in os.listdir(input_folder):\n",
        "        label_folder = os.path.join(input_folder, label)\n",
        "        output_label_folder = os.path.join(output_folder, label)\n",
        "\n",
        "        if not os.path.exists(output_label_folder):\n",
        "            os.makedirs(output_label_folder)\n",
        "\n",
        "        for image_file in os.listdir(label_folder):\n",
        "            image_path = os.path.join(label_folder, image_file)\n",
        "            image = cv2.imread(image_path)\n",
        "\n",
        "            if image is None:\n",
        "                print(f\"Failed to load image: {image_path}\")\n",
        "                continue\n",
        "\n",
        "            # Detect faces\n",
        "            results = face_detection.process(cv2.cvtColor(image, cv2.COLOR_BGR2RGB))\n",
        "            if results.detections:\n",
        "                for detection in results.detections:\n",
        "                    bboxC = detection.location_data.relative_bounding_box\n",
        "                    ih, iw, _ = image.shape\n",
        "                    x, y, w, h = (int(bboxC.xmin * iw), int(bboxC.ymin * ih),\n",
        "                                  int(bboxC.width * iw), int(bboxC.height * ih))\n",
        "                    if x >= 0 and y >= 0 and x + w <= iw and y + h <= ih:\n",
        "                        cropped_face = image[y:y + h, x:x + w]\n",
        "                        # Save processed face\n",
        "                        output_path = os.path.join(output_label_folder, image_file)\n",
        "                        cv2.imwrite(output_path, cropped_face)\n",
        "                    else:\n",
        "                        print(f\"Invalid bounding box for image: {image_path}\")\n",
        "            else:\n",
        "                print(f\"No face detected in image: {image_path}\")\n",
        "\n",
        "    print(\"Preprocessing completed with MediaPipe.\")\n"
      ]
    },
    {
      "cell_type": "code",
      "execution_count": 9,
      "metadata": {
        "colab": {
          "base_uri": "https://localhost:8080/"
        },
        "collapsed": true,
        "id": "9gFvLnMJbca_",
        "outputId": "01aad481-af1f-4117-ba2e-7d7f1747d1f3"
      },
      "outputs": [
        {
          "name": "stdout",
          "output_type": "stream",
          "text": [
            "Invalid bounding box for image: ../Dataset/Foto Greyscale\\Dimas\\Dimas_12.jpg\n",
            "Invalid bounding box for image: ../Dataset/Foto Greyscale\\Dimas\\Dimas_7.jpg\n",
            "Invalid bounding box for image: ../Dataset/Foto Greyscale\\Fadlin\\Fadlin_8.jpg\n",
            "Invalid bounding box for image: ../Dataset/Foto Greyscale\\Hafidz\\Hafidz_1.jpg\n",
            "Invalid bounding box for image: ../Dataset/Foto Greyscale\\Hafidz\\Hafidz_10.jpg\n",
            "Invalid bounding box for image: ../Dataset/Foto Greyscale\\Hafidz\\Hafidz_12.jpg\n",
            "Invalid bounding box for image: ../Dataset/Foto Greyscale\\Hafidz\\Hafidz_4.jpg\n",
            "Invalid bounding box for image: ../Dataset/Foto Greyscale\\Hafidz\\Hafidz_8.jpg\n",
            "No face detected in image: ../Dataset/Foto Greyscale\\Khansa\\Khansa_2.jpg\n",
            "Preprocessing completed with MediaPipe.\n"
          ]
        }
      ],
      "source": [
        "# Preprocess images\n",
        "preprocess_with_mediapipe(\"../Dataset/Foto Greyscale\" , \"../Dataset/Foto Test CNN\" )"
      ]
    },
    {
      "cell_type": "code",
      "execution_count": 10,
      "metadata": {
        "colab": {
          "base_uri": "https://localhost:8080/"
        },
        "collapsed": true,
        "id": "CFvet1gYlQIc",
        "outputId": "4a9621a5-af58-4532-b645-2f48adb6723d"
      },
      "outputs": [
        {
          "name": "stderr",
          "output_type": "stream",
          "text": [
            "Copying files: 337 files [00:04, 79.92 files/s] "
          ]
        },
        {
          "name": "stdout",
          "output_type": "stream",
          "text": [
            "Dataset splitting completed.\n"
          ]
        },
        {
          "name": "stderr",
          "output_type": "stream",
          "text": [
            "\n"
          ]
        }
      ],
      "source": [
        "# Step 2: Split Dataset into Train, Validation, and Test\n",
        "splitfolders.ratio(\n",
        "    \"../Dataset/Foto Test CNN\",  # Input folder after preprocessing\n",
        "    output=\"../Dataset/Data CNNs\",  # Output folder\n",
        "    seed=42,\n",
        "    ratio=(0.7, 0.15, 0.15)  # Train:Validation:Test ratio\n",
        ")\n",
        "print(\"Dataset splitting completed.\")"
      ]
    },
    {
      "cell_type": "code",
      "execution_count": 36,
      "metadata": {
        "colab": {
          "base_uri": "https://localhost:8080/"
        },
        "id": "jQwHIyI5mxZE",
        "outputId": "d1582e78-824c-4198-ebee-de148bb18b2b"
      },
      "outputs": [
        {
          "name": "stdout",
          "output_type": "stream",
          "text": [
            "Found 232 images belonging to 15 classes.\n"
          ]
        },
        {
          "name": "stdout",
          "output_type": "stream",
          "text": [
            "Found 46 images belonging to 15 classes.\n",
            "Found 59 images belonging to 15 classes.\n"
          ]
        }
      ],
      "source": [
        "# Step 3: Load Dataset with ImageDataGenerator\n",
        "datagen = ImageDataGenerator(rescale=1/255)\n",
        "\n",
        "train_dataset = datagen.flow_from_directory(\n",
        "    \"../Dataset/Data CNNs/train\",\n",
        "    target_size=(30, 30),\n",
        "    batch_size=16,\n",
        "    class_mode='categorical'\n",
        ")\n",
        "\n",
        "validation_dataset = datagen.flow_from_directory(\n",
        "    \"../Dataset/Data CNNs/val\",\n",
        "    target_size=(30, 30),\n",
        "    batch_size=16,\n",
        "    class_mode='categorical'\n",
        ")\n",
        "test_dataset = datagen.flow_from_directory(\n",
        "    \"../Dataset/Data CNNs/test\",\n",
        "    target_size=(30, 30),\n",
        "    batch_size=16,\n",
        "    class_mode='categorical',\n",
        "    shuffle=False  # Do not shuffle for evaluation\n",
        ")"
      ]
    },
    {
      "cell_type": "code",
      "execution_count": 2,
      "metadata": {},
      "outputs": [],
      "source": [
        "from process_image import *\n",
        "from model_nn import *"
      ]
    },
    {
      "cell_type": "code",
      "execution_count": 39,
      "metadata": {
        "colab": {
          "base_uri": "https://localhost:8080/"
        },
        "id": "xihtVx90nKYe",
        "outputId": "7bd1a0ee-d981-42e0-8061-3cc4d932706b"
      },
      "outputs": [],
      "source": [
        "# Step 4: Build CNN Model\n",
        "model = models.Sequential([\n",
        "    layers.Conv2D(32, (3, 3), activation='relu', input_shape=(30, 30, 3)),\n",
        "    layers.MaxPooling2D((2, 2)),\n",
        "    layers.Conv2D(64, (3, 3), activation='relu'),\n",
        "    layers.MaxPooling2D((2, 2)),\n",
        "    layers.Conv2D(128, (3, 3), activation='relu'),\n",
        "    layers.MaxPooling2D((2, 2)),\n",
        "    layers.Flatten(),\n",
        "    layers.Dense(128, activation='relu'),\n",
        "    layers.Dense(len(train_dataset.class_indices), activation='softmax')  # Output = number of classes\n",
        "])\n",
        "\n",
        "model.compile(optimizer='adam',\n",
        "              loss='categorical_crossentropy',\n",
        "              metrics=['accuracy'])"
      ]
    },
    {
      "cell_type": "code",
      "execution_count": 33,
      "metadata": {
        "colab": {
          "base_uri": "https://localhost:8080/"
        },
        "id": "FaNfc2T4nOFA",
        "outputId": "e195d7e8-2a38-4f2d-bdd3-b22d84369e74"
      },
      "outputs": [
        {
          "name": "stdout",
          "output_type": "stream",
          "text": [
            "Epoch 1/1500\n",
            "\u001b[1m8/8\u001b[0m \u001b[32m━━━━━━━━━━━━━━━━━━━━\u001b[0m\u001b[37m\u001b[0m \u001b[1m4s\u001b[0m 361ms/step - accuracy: 0.0937 - loss: 2.6998 - val_accuracy: 0.1087 - val_loss: 2.6719\n",
            "Epoch 2/1500\n",
            "\u001b[1m8/8\u001b[0m \u001b[32m━━━━━━━━━━━━━━━━━━━━\u001b[0m\u001b[37m\u001b[0m \u001b[1m2s\u001b[0m 301ms/step - accuracy: 0.1174 - loss: 2.6662 - val_accuracy: 0.1087 - val_loss: 2.6608\n",
            "Epoch 3/1500\n",
            "\u001b[1m8/8\u001b[0m \u001b[32m━━━━━━━━━━━━━━━━━━━━\u001b[0m\u001b[37m\u001b[0m \u001b[1m2s\u001b[0m 311ms/step - accuracy: 0.1136 - loss: 2.6741 - val_accuracy: 0.1739 - val_loss: 2.6216\n",
            "Epoch 4/1500\n",
            "\u001b[1m8/8\u001b[0m \u001b[32m━━━━━━━━━━━━━━━━━━━━\u001b[0m\u001b[37m\u001b[0m \u001b[1m2s\u001b[0m 276ms/step - accuracy: 0.1842 - loss: 2.6044 - val_accuracy: 0.1304 - val_loss: 2.5709\n",
            "Epoch 5/1500\n",
            "\u001b[1m8/8\u001b[0m \u001b[32m━━━━━━━━━━━━━━━━━━━━\u001b[0m\u001b[37m\u001b[0m \u001b[1m2s\u001b[0m 277ms/step - accuracy: 0.1339 - loss: 2.5163 - val_accuracy: 0.1522 - val_loss: 2.4763\n",
            "Epoch 6/1500\n",
            "\u001b[1m8/8\u001b[0m \u001b[32m━━━━━━━━━━━━━━━━━━━━\u001b[0m\u001b[37m\u001b[0m \u001b[1m2s\u001b[0m 303ms/step - accuracy: 0.2417 - loss: 2.3945 - val_accuracy: 0.4130 - val_loss: 2.2787\n",
            "Epoch 7/1500\n",
            "\u001b[1m8/8\u001b[0m \u001b[32m━━━━━━━━━━━━━━━━━━━━\u001b[0m\u001b[37m\u001b[0m \u001b[1m3s\u001b[0m 323ms/step - accuracy: 0.3800 - loss: 2.1490 - val_accuracy: 0.3261 - val_loss: 1.9181\n",
            "Epoch 8/1500\n",
            "\u001b[1m8/8\u001b[0m \u001b[32m━━━━━━━━━━━━━━━━━━━━\u001b[0m\u001b[37m\u001b[0m \u001b[1m2s\u001b[0m 294ms/step - accuracy: 0.4929 - loss: 1.7010 - val_accuracy: 0.5435 - val_loss: 1.6019\n",
            "Epoch 9/1500\n",
            "\u001b[1m8/8\u001b[0m \u001b[32m━━━━━━━━━━━━━━━━━━━━\u001b[0m\u001b[37m\u001b[0m \u001b[1m2s\u001b[0m 289ms/step - accuracy: 0.5944 - loss: 1.2540 - val_accuracy: 0.6087 - val_loss: 1.3550\n",
            "Epoch 10/1500\n",
            "\u001b[1m8/8\u001b[0m \u001b[32m━━━━━━━━━━━━━━━━━━━━\u001b[0m\u001b[37m\u001b[0m \u001b[1m2s\u001b[0m 290ms/step - accuracy: 0.6792 - loss: 1.0307 - val_accuracy: 0.6522 - val_loss: 0.9912\n",
            "Epoch 11/1500\n",
            "\u001b[1m8/8\u001b[0m \u001b[32m━━━━━━━━━━━━━━━━━━━━\u001b[0m\u001b[37m\u001b[0m \u001b[1m2s\u001b[0m 289ms/step - accuracy: 0.7600 - loss: 0.7787 - val_accuracy: 0.7391 - val_loss: 0.8131\n",
            "Epoch 12/1500\n",
            "\u001b[1m8/8\u001b[0m \u001b[32m━━━━━━━━━━━━━━━━━━━━\u001b[0m\u001b[37m\u001b[0m \u001b[1m2s\u001b[0m 317ms/step - accuracy: 0.8010 - loss: 0.6006 - val_accuracy: 0.8043 - val_loss: 0.7623\n",
            "Epoch 13/1500\n",
            "\u001b[1m8/8\u001b[0m \u001b[32m━━━━━━━━━━━━━━━━━━━━\u001b[0m\u001b[37m\u001b[0m \u001b[1m3s\u001b[0m 319ms/step - accuracy: 0.8575 - loss: 0.5048 - val_accuracy: 0.8043 - val_loss: 0.6852\n",
            "Epoch 14/1500\n",
            "\u001b[1m8/8\u001b[0m \u001b[32m━━━━━━━━━━━━━━━━━━━━\u001b[0m\u001b[37m\u001b[0m \u001b[1m2s\u001b[0m 315ms/step - accuracy: 0.9112 - loss: 0.3600 - val_accuracy: 0.7826 - val_loss: 0.7693\n",
            "Epoch 15/1500\n",
            "\u001b[1m8/8\u001b[0m \u001b[32m━━━━━━━━━━━━━━━━━━━━\u001b[0m\u001b[37m\u001b[0m \u001b[1m2s\u001b[0m 302ms/step - accuracy: 0.9041 - loss: 0.3432 - val_accuracy: 0.8478 - val_loss: 0.5846\n",
            "Epoch 16/1500\n",
            "\u001b[1m8/8\u001b[0m \u001b[32m━━━━━━━━━━━━━━━━━━━━\u001b[0m\u001b[37m\u001b[0m \u001b[1m2s\u001b[0m 268ms/step - accuracy: 0.8946 - loss: 0.3341 - val_accuracy: 0.8478 - val_loss: 0.5501\n",
            "Epoch 17/1500\n",
            "\u001b[1m8/8\u001b[0m \u001b[32m━━━━━━━━━━━━━━━━━━━━\u001b[0m\u001b[37m\u001b[0m \u001b[1m2s\u001b[0m 284ms/step - accuracy: 0.9616 - loss: 0.2380 - val_accuracy: 0.8043 - val_loss: 0.6977\n",
            "Epoch 18/1500\n",
            "\u001b[1m8/8\u001b[0m \u001b[32m━━━━━━━━━━━━━━━━━━━━\u001b[0m\u001b[37m\u001b[0m \u001b[1m2s\u001b[0m 285ms/step - accuracy: 0.9313 - loss: 0.2421 - val_accuracy: 0.8696 - val_loss: 0.6228\n",
            "Epoch 19/1500\n",
            "\u001b[1m8/8\u001b[0m \u001b[32m━━━━━━━━━━━━━━━━━━━━\u001b[0m\u001b[37m\u001b[0m \u001b[1m2s\u001b[0m 297ms/step - accuracy: 0.9830 - loss: 0.1206 - val_accuracy: 0.8913 - val_loss: 0.5167\n",
            "Epoch 20/1500\n",
            "\u001b[1m8/8\u001b[0m \u001b[32m━━━━━━━━━━━━━━━━━━━━\u001b[0m\u001b[37m\u001b[0m \u001b[1m2s\u001b[0m 282ms/step - accuracy: 0.9939 - loss: 0.0885 - val_accuracy: 0.8913 - val_loss: 0.4885\n",
            "Epoch 21/1500\n",
            "\u001b[1m8/8\u001b[0m \u001b[32m━━━━━━━━━━━━━━━━━━━━\u001b[0m\u001b[37m\u001b[0m \u001b[1m2s\u001b[0m 275ms/step - accuracy: 0.9555 - loss: 0.1682 - val_accuracy: 0.8478 - val_loss: 0.5828\n",
            "Epoch 22/1500\n",
            "\u001b[1m8/8\u001b[0m \u001b[32m━━━━━━━━━━━━━━━━━━━━\u001b[0m\u001b[37m\u001b[0m \u001b[1m2s\u001b[0m 285ms/step - accuracy: 0.9576 - loss: 0.1517 - val_accuracy: 0.8478 - val_loss: 0.7367\n",
            "Epoch 23/1500\n",
            "\u001b[1m8/8\u001b[0m \u001b[32m━━━━━━━━━━━━━━━━━━━━\u001b[0m\u001b[37m\u001b[0m \u001b[1m2s\u001b[0m 281ms/step - accuracy: 0.9744 - loss: 0.1368 - val_accuracy: 0.8043 - val_loss: 0.7768\n",
            "Epoch 24/1500\n",
            "\u001b[1m8/8\u001b[0m \u001b[32m━━━━━━━━━━━━━━━━━━━━\u001b[0m\u001b[37m\u001b[0m \u001b[1m2s\u001b[0m 297ms/step - accuracy: 0.9721 - loss: 0.1159 - val_accuracy: 0.8696 - val_loss: 0.5378\n",
            "Epoch 25/1500\n",
            "\u001b[1m8/8\u001b[0m \u001b[32m━━━━━━━━━━━━━━━━━━━━\u001b[0m\u001b[37m\u001b[0m \u001b[1m2s\u001b[0m 278ms/step - accuracy: 0.9941 - loss: 0.0461 - val_accuracy: 0.8478 - val_loss: 0.6307\n",
            "Epoch 26/1500\n",
            "\u001b[1m8/8\u001b[0m \u001b[32m━━━━━━━━━━━━━━━━━━━━\u001b[0m\u001b[37m\u001b[0m \u001b[1m2s\u001b[0m 291ms/step - accuracy: 0.9950 - loss: 0.0296 - val_accuracy: 0.8913 - val_loss: 0.5913\n",
            "Epoch 27/1500\n",
            "\u001b[1m8/8\u001b[0m \u001b[32m━━━━━━━━━━━━━━━━━━━━\u001b[0m\u001b[37m\u001b[0m \u001b[1m2s\u001b[0m 269ms/step - accuracy: 0.9978 - loss: 0.0200 - val_accuracy: 0.8913 - val_loss: 0.6836\n",
            "Epoch 28/1500\n",
            "\u001b[1m8/8\u001b[0m \u001b[32m━━━━━━━━━━━━━━━━━━━━\u001b[0m\u001b[37m\u001b[0m \u001b[1m2s\u001b[0m 266ms/step - accuracy: 0.9990 - loss: 0.0218 - val_accuracy: 0.8696 - val_loss: 0.7153\n",
            "Epoch 29/1500\n",
            "\u001b[1m8/8\u001b[0m \u001b[32m━━━━━━━━━━━━━━━━━━━━\u001b[0m\u001b[37m\u001b[0m \u001b[1m2s\u001b[0m 267ms/step - accuracy: 0.9970 - loss: 0.0168 - val_accuracy: 0.9130 - val_loss: 0.6181\n",
            "Epoch 30/1500\n",
            "\u001b[1m8/8\u001b[0m \u001b[32m━━━━━━━━━━━━━━━━━━━━\u001b[0m\u001b[37m\u001b[0m \u001b[1m2s\u001b[0m 272ms/step - accuracy: 1.0000 - loss: 0.0173 - val_accuracy: 0.8696 - val_loss: 0.6869\n",
            "Epoch 31/1500\n",
            "\u001b[1m8/8\u001b[0m \u001b[32m━━━━━━━━━━━━━━━━━━━━\u001b[0m\u001b[37m\u001b[0m \u001b[1m2s\u001b[0m 275ms/step - accuracy: 1.0000 - loss: 0.0117 - val_accuracy: 0.8696 - val_loss: 0.7496\n",
            "Epoch 32/1500\n",
            "\u001b[1m8/8\u001b[0m \u001b[32m━━━━━━━━━━━━━━━━━━━━\u001b[0m\u001b[37m\u001b[0m \u001b[1m2s\u001b[0m 284ms/step - accuracy: 1.0000 - loss: 0.0114 - val_accuracy: 0.8913 - val_loss: 0.6592\n",
            "Epoch 33/1500\n",
            "\u001b[1m8/8\u001b[0m \u001b[32m━━━━━━━━━━━━━━━━━━━━\u001b[0m\u001b[37m\u001b[0m \u001b[1m2s\u001b[0m 282ms/step - accuracy: 1.0000 - loss: 0.0097 - val_accuracy: 0.8696 - val_loss: 0.7250\n",
            "Epoch 34/1500\n",
            "\u001b[1m8/8\u001b[0m \u001b[32m━━━━━━━━━━━━━━━━━━━━\u001b[0m\u001b[37m\u001b[0m \u001b[1m2s\u001b[0m 288ms/step - accuracy: 1.0000 - loss: 0.0068 - val_accuracy: 0.8696 - val_loss: 0.7289\n",
            "Epoch 35/1500\n",
            "\u001b[1m8/8\u001b[0m \u001b[32m━━━━━━━━━━━━━━━━━━━━\u001b[0m\u001b[37m\u001b[0m \u001b[1m2s\u001b[0m 281ms/step - accuracy: 1.0000 - loss: 0.0053 - val_accuracy: 0.8913 - val_loss: 0.7287\n",
            "Epoch 36/1500\n",
            "\u001b[1m8/8\u001b[0m \u001b[32m━━━━━━━━━━━━━━━━━━━━\u001b[0m\u001b[37m\u001b[0m \u001b[1m2s\u001b[0m 278ms/step - accuracy: 1.0000 - loss: 0.0073 - val_accuracy: 0.8913 - val_loss: 0.7660\n",
            "Epoch 37/1500\n",
            "\u001b[1m8/8\u001b[0m \u001b[32m━━━━━━━━━━━━━━━━━━━━\u001b[0m\u001b[37m\u001b[0m \u001b[1m2s\u001b[0m 276ms/step - accuracy: 1.0000 - loss: 0.0048 - val_accuracy: 0.8913 - val_loss: 0.7018\n",
            "Epoch 38/1500\n",
            "\u001b[1m8/8\u001b[0m \u001b[32m━━━━━━━━━━━━━━━━━━━━\u001b[0m\u001b[37m\u001b[0m \u001b[1m2s\u001b[0m 278ms/step - accuracy: 1.0000 - loss: 0.0054 - val_accuracy: 0.8913 - val_loss: 0.7430\n",
            "Epoch 39/1500\n",
            "\u001b[1m8/8\u001b[0m \u001b[32m━━━━━━━━━━━━━━━━━━━━\u001b[0m\u001b[37m\u001b[0m \u001b[1m2s\u001b[0m 305ms/step - accuracy: 1.0000 - loss: 0.0046 - val_accuracy: 0.8913 - val_loss: 0.7579\n",
            "Epoch 39: early stopping\n",
            "Restoring model weights from the end of the best epoch: 29.\n"
          ]
        }
      ],
      "source": [
        "class StopWhenAccuracyIsOne(tf.keras.callbacks.Callback):\n",
        "    def on_epoch_end(self, epoch, logs=None):\n",
        "        val_acc = logs.get('val_accuracy')  # Retrieve val_accuracy from logs\n",
        "        if val_acc is not None and val_acc >= 1.0:\n",
        "            print(f\"\\nStopping training as val_accuracy reached {val_acc} at epoch {epoch + 1}\")\n",
        "            self.model.stop_training = True\n",
        "\n",
        "early_stopping = tf.keras.callbacks.EarlyStopping(monitor='val_accuracy', patience=10, restore_best_weights=True, mode='max', verbose=1)\n",
        "\n",
        "# Initialize the custom callback\n",
        "custom_early_stopping = StopWhenAccuracyIsOne()\n",
        "\n",
        "# Model training with custom callback\n",
        "history = model.fit(\n",
        "    train_dataset,\n",
        "    validation_data=validation_dataset,\n",
        "    epochs=1500,\n",
        "    callbacks=[custom_early_stopping, early_stopping]\n",
        ")"
      ]
    },
    {
      "cell_type": "code",
      "execution_count": 19,
      "metadata": {
        "colab": {
          "base_uri": "https://localhost:8080/"
        },
        "id": "P7VAOx68SK2E",
        "outputId": "34a84220-f536-4f0c-9ed7-e1eecbe884e8"
      },
      "outputs": [
        {
          "name": "stderr",
          "output_type": "stream",
          "text": [
            "WARNING:absl:You are saving your model as an HDF5 file via `model.save()` or `keras.saving.save_model(model)`. This file format is considered legacy. We recommend using instead the native Keras format, e.g. `model.save('my_model.keras')` or `keras.saving.save_model(model, 'my_model.keras')`. \n"
          ]
        },
        {
          "name": "stdout",
          "output_type": "stream",
          "text": [
            "Model training completed and saved.\n"
          ]
        }
      ],
      "source": [
        "# Step 6: Save the Model\n",
        "model.save('70x70_Good.h5')\n",
        "print(\"Model training completed and saved.\")"
      ]
    },
    {
      "cell_type": "code",
      "execution_count": 34,
      "metadata": {
        "colab": {
          "base_uri": "https://localhost:8080/"
        },
        "id": "U4TKRL-AZBgm",
        "outputId": "5e310f2b-57b9-4b92-f8f3-e0aaa5658931"
      },
      "outputs": [
        {
          "name": "stdout",
          "output_type": "stream",
          "text": [
            "\u001b[1m2/2\u001b[0m \u001b[32m━━━━━━━━━━━━━━━━━━━━\u001b[0m\u001b[37m\u001b[0m \u001b[1m0s\u001b[0m 197ms/step - accuracy: 0.8575 - loss: 0.6512\n",
            "Test Accuracy: 0.86\n"
          ]
        }
      ],
      "source": [
        "# Step 7: Evaluate Model on Test Set\n",
        "test_loss, test_acc = model.evaluate(test_dataset)\n",
        "print(f\"Test Accuracy: {test_acc:.2f}\")"
      ]
    },
    {
      "cell_type": "code",
      "execution_count": 35,
      "metadata": {
        "colab": {
          "base_uri": "https://localhost:8080/",
          "height": 1000
        },
        "id": "n27SzeT4ZQHh",
        "outputId": "d8a20e4a-a6ff-4959-e7c9-1e7f1e8d2ae3"
      },
      "outputs": [
        {
          "name": "stdout",
          "output_type": "stream",
          "text": [
            "WARNING:tensorflow:5 out of the last 9 calls to <function TensorFlowTrainer.make_predict_function.<locals>.one_step_on_data_distributed at 0x000001C9EF7710D0> triggered tf.function retracing. Tracing is expensive and the excessive number of tracings could be due to (1) creating @tf.function repeatedly in a loop, (2) passing tensors with different shapes, (3) passing Python objects instead of tensors. For (1), please define your @tf.function outside of the loop. For (2), @tf.function has reduce_retracing=True option that can avoid unnecessary retracing. For (3), please refer to https://www.tensorflow.org/guide/function#controlling_retracing and https://www.tensorflow.org/api_docs/python/tf/function for  more details.\n"
          ]
        },
        {
          "name": "stderr",
          "output_type": "stream",
          "text": [
            "WARNING:tensorflow:5 out of the last 9 calls to <function TensorFlowTrainer.make_predict_function.<locals>.one_step_on_data_distributed at 0x000001C9EF7710D0> triggered tf.function retracing. Tracing is expensive and the excessive number of tracings could be due to (1) creating @tf.function repeatedly in a loop, (2) passing tensors with different shapes, (3) passing Python objects instead of tensors. For (1), please define your @tf.function outside of the loop. For (2), @tf.function has reduce_retracing=True option that can avoid unnecessary retracing. For (3), please refer to https://www.tensorflow.org/guide/function#controlling_retracing and https://www.tensorflow.org/api_docs/python/tf/function for  more details.\n"
          ]
        },
        {
          "name": "stdout",
          "output_type": "stream",
          "text": [
            "\u001b[1m1/2\u001b[0m \u001b[32m━━━━━━━━━━\u001b[0m\u001b[37m━━━━━━━━━━\u001b[0m \u001b[1m0s\u001b[0m 313ms/stepWARNING:tensorflow:6 out of the last 10 calls to <function TensorFlowTrainer.make_predict_function.<locals>.one_step_on_data_distributed at 0x000001C9EF7710D0> triggered tf.function retracing. Tracing is expensive and the excessive number of tracings could be due to (1) creating @tf.function repeatedly in a loop, (2) passing tensors with different shapes, (3) passing Python objects instead of tensors. For (1), please define your @tf.function outside of the loop. For (2), @tf.function has reduce_retracing=True option that can avoid unnecessary retracing. For (3), please refer to https://www.tensorflow.org/guide/function#controlling_retracing and https://www.tensorflow.org/api_docs/python/tf/function for  more details.\n"
          ]
        },
        {
          "name": "stderr",
          "output_type": "stream",
          "text": [
            "WARNING:tensorflow:6 out of the last 10 calls to <function TensorFlowTrainer.make_predict_function.<locals>.one_step_on_data_distributed at 0x000001C9EF7710D0> triggered tf.function retracing. Tracing is expensive and the excessive number of tracings could be due to (1) creating @tf.function repeatedly in a loop, (2) passing tensors with different shapes, (3) passing Python objects instead of tensors. For (1), please define your @tf.function outside of the loop. For (2), @tf.function has reduce_retracing=True option that can avoid unnecessary retracing. For (3), please refer to https://www.tensorflow.org/guide/function#controlling_retracing and https://www.tensorflow.org/api_docs/python/tf/function for  more details.\n"
          ]
        },
        {
          "name": "stdout",
          "output_type": "stream",
          "text": [
            "\u001b[1m2/2\u001b[0m \u001b[32m━━━━━━━━━━━━━━━━━━━━\u001b[0m\u001b[37m\u001b[0m \u001b[1m0s\u001b[0m 164ms/step\n"
          ]
        },
        {
          "data": {
            "image/png": "[encoded data removed]",
            "text/plain": [
              "<Figure size 1000x800 with 2 Axes>"
            ]
          },
          "metadata": {},
          "output_type": "display_data"
        },
        {
          "name": "stdout",
          "output_type": "stream",
          "text": [
            "Classification Report:\n",
            "              precision    recall  f1-score   support\n",
            "\n",
            "      Azmira       0.75      1.00      0.86         3\n",
            "       David       1.00      0.80      0.89         5\n",
            "       Dimas       0.67      0.50      0.57         4\n",
            "      Fadhli       0.80      1.00      0.89         4\n",
            "      Fadlin       1.00      1.00      1.00         5\n",
            "      Hafidz       1.00      0.67      0.80         3\n",
            "      Haidar       1.00      1.00      1.00         3\n",
            "       Hanna       0.67      0.67      0.67         3\n",
            "       Keiko       1.00      0.83      0.91         6\n",
            "      Khansa       1.00      0.75      0.86         4\n",
            "     Mikhael       1.00      1.00      1.00         3\n",
            "        Puti       1.00      1.00      1.00         3\n",
            "       Raesa       0.67      0.67      0.67         3\n",
            "     Satwika       0.60      1.00      0.75         3\n",
            "        Toni       0.88      1.00      0.93         7\n",
            "\n",
            "    accuracy                           0.86        59\n",
            "   macro avg       0.87      0.86      0.85        59\n",
            "weighted avg       0.88      0.86      0.86        59\n",
            "\n"
          ]
        }
      ],
      "source": [
        "# Step 8: Generate Confusion Matrix\n",
        "Y_pred = model.predict(test_dataset)\n",
        "y_pred_classes = np.argmax(Y_pred, axis=1)  # Predicted class\n",
        "y_true = test_dataset.classes  # True labels\n",
        "\n",
        "# Confusion Matrix\n",
        "cm = confusion_matrix(y_true, y_pred_classes)\n",
        "\n",
        "# Plot Confusion Matrix\n",
        "plt.figure(figsize=(10, 8))\n",
        "sns.heatmap(cm, annot=True, fmt=\"d\", cmap=\"Blues\", xticklabels=test_dataset.class_indices.keys(), yticklabels=test_dataset.class_indices.keys())\n",
        "plt.xlabel(\"Predicted\")\n",
        "plt.ylabel(\"True\")\n",
        "plt.title(\"Confusion Matrix\")\n",
        "plt.show()\n",
        "\n",
        "# Classification Report\n",
        "report = classification_report(y_true, y_pred_classes, target_names=test_dataset.class_indices.keys())\n",
        "print(\"Classification Report:\")\n",
        "print(report)"
      ]
    }
  ],
  "metadata": {
    "colab": {
      "provenance": []
    },
    "kernelspec": {
      "display_name": "Python 3",
      "name": "python3"
    },
    "language_info": {
      "codemirror_mode": {
        "name": "ipython",
        "version": 3
      },
      "file_extension": ".py",
      "mimetype": "text/x-python",
      "name": "python",
      "nbconvert_exporter": "python",
      "pygments_lexer": "ipython3",
      "version": "3.9.13"
    }
  },
  "nbformat": 4,
  "nbformat_minor": 0
}
