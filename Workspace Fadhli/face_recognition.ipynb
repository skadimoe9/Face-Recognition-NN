{
 "cells": [
  {
   "cell_type": "markdown",
   "metadata": {},
   "source": [
    "Import Libraries"
   ]
  },
  {
   "cell_type": "code",
   "execution_count": null,
   "metadata": {},
   "outputs": [],
   "source": [
    "import os\n",
    "import numpy as np\n",
    "from PIL import Image"
   ]
  },
  {
   "cell_type": "markdown",
   "metadata": {},
   "source": [
    "Convert all the pixels from all images into arrays using flatten"
   ]
  },
  {
   "cell_type": "code",
   "execution_count": null,
   "metadata": {},
   "outputs": [
    {
     "name": "stdout",
     "output_type": "stream",
     "text": [
      "Found folders: ['Azmira', 'David', 'Dimas', 'Fadhli', 'Fadlin', 'Hafidz', 'Haidar', 'Hanna', 'Keiko', 'Khansa', 'Mikhael', 'Puti', 'Raesa', 'Satwika', 'Toni']\n",
      "Input array shape: (1384, 2500)\n",
      "Output array shape: (1384, 15)\n"
     ]
    }
   ],
   "source": [
    "# Set the input directory path\n",
    "input_directory = \"../Dataset/Foto_Resize_50x50\"\n",
    "\n",
    "# List all folders in the input directory\n",
    "folders = [f for f in os.listdir(input_directory) if os.path.isdir(os.path.join(input_directory, f))]\n",
    "print(f\"Found folders: {folders}\")\n",
    "\n",
    "# Initialize arrays for inputs and outputs\n",
    "X = []\n",
    "y = []\n",
    "\n",
    "# Create a mapping from folder names to one-hot encoded labels\n",
    "label_map = {folder: idx for idx, folder in enumerate(folders)}\n",
    "num_classes = len(folders)\n",
    "\n",
    "# Process each folder and photo\n",
    "for folder in folders:\n",
    "    folder_path = os.path.join(input_directory, folder)\n",
    "    \n",
    "    # Sort the list of photos to ensure consistent order\n",
    "    photos = sorted([p for p in os.listdir(folder_path) if p.endswith(('.png', '.jpg', '.jpeg'))])\n",
    "    \n",
    "    for photo in photos:\n",
    "        photo_path = os.path.join(folder_path, photo)\n",
    "        image = Image.open(photo_path)\n",
    "        \n",
    "        # Convert the image to a numpy array and flatten it\n",
    "        image_array = np.array(image).flatten()\n",
    "        X.append(image_array)\n",
    "        \n",
    "        # Create a one-hot encoded label\n",
    "        label = np.zeros(num_classes)\n",
    "        label[label_map[folder]] = 1\n",
    "        y.append(label)\n",
    "\n",
    "# Convert lists to numpy arrays\n",
    "X = np.array(X)\n",
    "y = np.array(y)\n",
    "\n",
    "print(f\"Input array shape: {X.shape}\")\n",
    "print(f\"Output array shape: {y.shape}\")"
   ]
  }
 ],
 "metadata": {
  "kernelspec": {
   "display_name": "Python 3",
   "language": "python",
   "name": "python3"
  },
  "language_info": {
   "codemirror_mode": {
    "name": "ipython",
    "version": 3
   },
   "file_extension": ".py",
   "mimetype": "text/x-python",
   "name": "python",
   "nbconvert_exporter": "python",
   "pygments_lexer": "ipython3",
   "version": "3.9.13"
  }
 },
 "nbformat": 4,
 "nbformat_minor": 2
}
