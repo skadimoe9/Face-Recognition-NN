{
 "cells": [
  {
   "cell_type": "code",
   "execution_count": 32,
   "metadata": {},
   "outputs": [
    {
     "name": "stdout",
     "output_type": "stream",
     "text": [
      "Found folders: ['Azmira', 'David', 'Dimas', 'Fadhli', 'Fadlin', 'Hafidz', 'Haidar', 'Hanna', 'Keiko', 'Khansa', 'Mikhael', 'Puti', 'Raesa', 'Satwika', 'Toni']\n",
      "Input array shape: (346, 4900)\n",
      "Output array shape: (346, 15)\n"
     ]
    }
   ],
   "source": [
    "import os\n",
    "import numpy as np\n",
    "import matplotlib.pyplot as plt\n",
    "import matplotlib.pyplot as plt\n",
    "import seaborn as sns\n",
    "from sklearn.metrics import confusion_matrix\n",
    "from PIL import Image\n",
    "import numpy as np\n",
    "import math\n",
    "from numpy.random import normal\n",
    "\n",
    "input_directory = \"../Dataset/Foto_Resize_70x70\"\n",
    "\n",
    "# List all folders in the input directory\n",
    "folders = [f for f in os.listdir(input_directory) if os.path.isdir(os.path.join(input_directory, f))]\n",
    "print(f\"Found folders: {folders}\")\n",
    "\n",
    "# Initialize arrays for inputs and outputs\n",
    "X = []\n",
    "Y = []\n",
    "\n",
    "# Create a mapping from folder names to one-hot encoded labels\n",
    "label_map = {folder: idx for idx, folder in enumerate(folders)}\n",
    "num_classes = len(folders)\n",
    "\n",
    "# Process each folder and photo\n",
    "for folder in folders:\n",
    "    folder_path = os.path.join(input_directory, folder)\n",
    "    \n",
    "    # Sort the list of photos to ensure consistent order\n",
    "    photos = sorted([p for p in os.listdir(folder_path) if p.endswith(('.png', '.jpg', '.jpeg'))])\n",
    "    \n",
    "    for photo in photos:\n",
    "        photo_path = os.path.join(folder_path, photo)\n",
    "        image = Image.open(photo_path)\n",
    "        \n",
    "        # Convert the image to a numpy array and flatten it\n",
    "        image_array = np.array(image).flatten()\n",
    "        X.append(image_array)\n",
    "        \n",
    "        # Create a one-hot encoded label\n",
    "        label = np.zeros(num_classes)\n",
    "        label[label_map[folder]] = 1\n",
    "        Y.append(label)\n",
    "\n",
    "# Convert lists to numpy arrays\n",
    "X = np.array(X)\n",
    "X = X/255;\n",
    "Y = np.array(Y)\n",
    "\n",
    "print(f\"Input array shape: {X.shape}\")\n",
    "print(f\"Output array shape: {Y.shape}\")\n",
    "\n",
    "import numpy as np\n",
    "\n",
    "def split_data(X, Y, train_ratio, val_ratio):\n",
    "  # Acak data\n",
    "  num_samples = X.shape[0]  # Assume X and Y have the same number of samples\n",
    "  indices = np.arange(num_samples)\n",
    "  np.random.shuffle(indices)\n",
    "\n",
    "  # Cari banyak data atau indeks yang akan digunakan untuk training dan validasi\n",
    "  train_idx = int(train_ratio * num_samples)\n",
    "  val_idx = int((train_ratio + val_ratio) * num_samples)\n",
    "\n",
    "  # Split data\n",
    "  X_train = X[indices[:train_idx]]\n",
    "  Y_train = Y[indices[:train_idx]]\n",
    "  X_val = X[indices[train_idx:val_idx]]\n",
    "  Y_val = Y[indices[train_idx:val_idx]]\n",
    "  X_test = X[indices[val_idx:]]\n",
    "  Y_test = Y[indices[val_idx:]]\n",
    "\n",
    "  # Kembalikan X Y untuk training, validasi, dan testing\n",
    "  return X_train, Y_train, X_val, Y_val, X_test, Y_test\n",
    "\n"
   ]
  },
  {
   "cell_type": "code",
   "execution_count": 33,
   "metadata": {},
   "outputs": [],
   "source": [
    "X_train, Y_train, X_val, Y_val, X_test, Y_test = split_data(X, Y, train_ratio=0.7, val_ratio=0.15)"
   ]
  },
  {
   "cell_type": "markdown",
   "metadata": {},
   "source": [
    "Functions"
   ]
  },
  {
   "cell_type": "code",
   "execution_count": 34,
   "metadata": {},
   "outputs": [],
   "source": [
    "def ReLU(x):\n",
    "    return np.maximum(0, x)\n",
    "    \n",
    "def Softmax(x):\n",
    "    exp_x = np.exp(x - np.max(x, axis=0, keepdims=True))\n",
    "    return exp_x / np.sum(exp_x, axis=0, keepdims=True)\n",
    "\n",
    "def d_ReLU(x):\n",
    "    return (x > 0).astype(float)"
   ]
  },
  {
   "cell_type": "code",
   "execution_count": 35,
   "metadata": {},
   "outputs": [
    {
     "name": "stdout",
     "output_type": "stream",
     "text": [
      "(15, 4900)\n",
      "(15, 1)\n",
      "(15, 15)\n",
      "(15, 1)\n"
     ]
    }
   ],
   "source": [
    "inputLayer = 4900\n",
    "hiddenLayer = 1\n",
    "outputLayer = 15\n",
    "hiddenNeurons = 15\n",
    "\n",
    "stddev = np.sqrt(2 / inputLayer)\n",
    "v = np.random.normal(loc=0, scale = stddev, size = (inputLayer, hiddenNeurons))\n",
    "v = v.T\n",
    "print(np.shape(v))\n",
    "vb = np.random.normal(loc=0, scale=stddev, size=hiddenNeurons) \n",
    "vb = vb.reshape(15,1)\n",
    "print(np.shape(vb))\n",
    "w = np.random.normal(loc=0, scale = stddev, size = (outputLayer, hiddenNeurons))\n",
    "w = w.T\n",
    "print(np.shape(w))\n",
    "wb = np.random.normal(loc=0, scale = stddev, size = outputLayer)\n",
    "wb = wb.reshape(15,1)\n",
    "print(np.shape(wb))\n",
    "\n",
    "X = X_train.T\n",
    "Y = Y_train.T\n",
    "\n",
    "#70x70\n",
    "#input = 4900, hiddenLayer = 1, neuron = 2\n",
    "\n",
    "n = 15\n",
    "stddev = np.sqrt(2/n)\n",
    "hiddenNeurons = 15\n",
    "\n",
    "\n",
    "for i in range(1000):\n",
    "\n",
    "    z_in = np.dot(v,X) + vb\n",
    "    z = ReLU(z_in)\n",
    "\n",
    "    y_in = np.dot(w,z) + wb\n",
    "    y = Softmax(y_in)\n",
    "\n",
    "    sigma_k = y-Y\n",
    "\n",
    "    delta_w = (1/X.shape[1])*np.dot(sigma_k,z.T)\n",
    "    delta_wb = (1/X.shape[1])*np.sum(sigma_k)\n",
    "\n",
    "    sigma_in = np.dot(w.T,sigma_k)*d_ReLU(z_in)\n",
    "\n",
    "    delta_v = (1/X.shape[1])*np.dot(sigma_in,X.T)\n",
    "    delta_vb = (1/X.shape[1])*np.sum(sigma_in)\n",
    "\n",
    "    alpha = 0.1\n",
    "    w -= alpha*delta_w\n",
    "    wb -= alpha*delta_wb\n",
    "    v -= alpha*delta_v\n",
    "    vb -= alpha*delta_vb\n",
    "\n"
   ]
  },
  {
   "cell_type": "markdown",
   "metadata": {},
   "source": [
    "Validation"
   ]
  },
  {
   "cell_type": "code",
   "execution_count": 36,
   "metadata": {},
   "outputs": [],
   "source": [
    "X = X_val.T\n",
    "Y = Y_val.T\n",
    "\n",
    "def validation(X, v, vb, w, wb):\n",
    "    z_in = np.dot(v,X) + vb\n",
    "    z = ReLU(z_in)\n",
    "\n",
    "    y_in = np.dot(w,z) + wb\n",
    "    y = Softmax(y_in)\n",
    "    return y\n",
    "\n",
    "\n",
    "# Make predictions\n",
    "Y_pred = validation(X, v, vb, w, wb)\n"
   ]
  },
  {
   "cell_type": "markdown",
   "metadata": {},
   "source": [
    "Testing"
   ]
  },
  {
   "cell_type": "code",
   "execution_count": 53,
   "metadata": {},
   "outputs": [
    {
     "data": {
      "image/png": "[encoded data removed]",
      "text/plain": [
       "<Figure size 800x600 with 2 Axes>"
      ]
     },
     "metadata": {},
     "output_type": "display_data"
    }
   ],
   "source": [
    "import numpy as np\n",
    "import matplotlib.pyplot as plt\n",
    "import seaborn as sns\n",
    "from sklearn.metrics import confusion_matrix\n",
    "\n",
    "X = X_test.T\n",
    "Y = Y_test.T\n",
    "\n",
    "def test(X, v, vb, w, wb):\n",
    "    z_in = np.dot(v, X) + vb\n",
    "    z = ReLU(z_in)  # Assuming you have defined the ReLU function\n",
    "\n",
    "    y_in = np.dot(w, z) + wb\n",
    "    y = Softmax(y_in)  # Assuming you have defined the Softmax function\n",
    "    return y\n",
    "\n",
    "# Make predictions\n",
    "Y_pred = test(X, v, vb, w, wb)\n",
    "\n",
    "names = [\"Toni\", 'Keiko', 'Fadhli', 'Fadlin', 'David',\n",
    "               'Azmira', 'Dimas', 'Hafidz', 'Haidar', 'Hanna',\n",
    "               'Khansa', 'Mikhael', 'Puti', 'Raesa', 'Satwika']\n",
    "\n",
    "# Convert predictions to class labels\n",
    "predicted_labels = np.argmax(Y_pred, axis=0) \n",
    "\n",
    "# Convert true labels to a suitable format if necessary (e.g., from one-hot encoding)\n",
    "true_labels = np.argmax(Y, axis=0)  # Assuming Y is one-hot encoded\n",
    "\n",
    "\n",
    "# Calculate and display the confusion matrix\n",
    "conf_matrix = confusion_matrix(true_labels, predicted_labels)\n",
    "\n",
    "plt.figure(figsize=(8, 6))\n",
    "sns.heatmap(conf_matrix, annot=True, fmt=\"d\", cmap=\"Blues\", xticklabels=names, yticklabels=names)\n",
    "plt.xlabel(\"Predicted Labels\")\n",
    "plt.ylabel(\"True Labels\")\n",
    "plt.title(\"Confusion Matrix\")\n",
    "plt.show()"
   ]
  },
  {
   "cell_type": "code",
   "execution_count": null,
   "metadata": {},
   "outputs": [
    {
     "ename": "NameError",
     "evalue": "name 'accuracy_score' is not defined",
     "output_type": "error",
     "traceback": [
      "\u001b[1;31m---------------------------------------------------------------------------\u001b[0m",
      "\u001b[1;31mNameError\u001b[0m                                 Traceback (most recent call last)",
      "Cell \u001b[1;32mIn[45], line 16\u001b[0m\n\u001b[0;32m     13\u001b[0m \u001b[38;5;66;03m# Make predictions\u001b[39;00m\n\u001b[0;32m     14\u001b[0m Y_pred \u001b[38;5;241m=\u001b[39m test(X, v, vb, w, wb)\n\u001b[1;32m---> 16\u001b[0m accuracy \u001b[38;5;241m=\u001b[39m \u001b[43maccuracy_score\u001b[49m(np\u001b[38;5;241m.\u001b[39margmax(Y, axis\u001b[38;5;241m=\u001b[39m\u001b[38;5;241m1\u001b[39m), Y_pred)\n\u001b[0;32m     17\u001b[0m \u001b[38;5;28mprint\u001b[39m(\u001b[38;5;124mf\u001b[39m\u001b[38;5;124m\"\u001b[39m\u001b[38;5;124mTesting Accuracy: \u001b[39m\u001b[38;5;132;01m{\u001b[39;00maccuracy\u001b[38;5;132;01m:\u001b[39;00m\u001b[38;5;124m.2%\u001b[39m\u001b[38;5;132;01m}\u001b[39;00m\u001b[38;5;124m\"\u001b[39m)\n\u001b[0;32m     19\u001b[0m \u001b[38;5;66;03m# berdasarkan flattend data\u001b[39;00m\n",
      "\u001b[1;31mNameError\u001b[0m: name 'accuracy_score' is not defined"
     ]
    }
   ],
   "source": [
    "X = X_test.T\n",
    "Y = Y_test.T\n",
    "\n",
    "\n",
    "def test(X, v, vb, w, wb):\n",
    "    z_in = np.dot(v,X) + vb\n",
    "    z = ReLU(z_in)\n",
    "\n",
    "    y_in = np.dot(w,z) + wb\n",
    "    y = Softmax(y_in)\n",
    "    return y\n",
    "\n",
    "# Make predictions\n",
    "Y_pred = test(X, v, vb, w, wb)\n"
   ]
  }
 ],
 "metadata": {
  "kernelspec": {
   "display_name": "Python 3",
   "language": "python",
   "name": "python3"
  },
  "language_info": {
   "codemirror_mode": {
    "name": "ipython",
    "version": 3
   },
   "file_extension": ".py",
   "mimetype": "text/x-python",
   "name": "python",
   "nbconvert_exporter": "python",
   "pygments_lexer": "ipython3",
   "version": "3.12.4"
  }
 },
 "nbformat": 4,
 "nbformat_minor": 2
}
