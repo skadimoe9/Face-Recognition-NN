{
 "cells": [
  {
   "cell_type": "code",
   "execution_count": 33,
   "metadata": {},
   "outputs": [],
   "source": [
    "import numpy as np\n",
    "from numpy.random import normal\n",
    "import math"
   ]
  },
  {
   "cell_type": "markdown",
   "metadata": {},
   "source": [
    "Weight Initialization with He"
   ]
  },
  {
   "cell_type": "code",
   "execution_count": 34,
   "metadata": {},
   "outputs": [
    {
     "name": "stdout",
     "output_type": "stream",
     "text": [
      "[[-0.05130505 -0.02578975]\n",
      " [-0.00163621 -0.00733247]\n",
      " [-0.01253943  0.03208602]\n",
      " ...\n",
      " [-0.03483691 -0.00845545]\n",
      " [ 0.01945475  0.04037163]\n",
      " [-0.02865292  0.0230721 ]]\n"
     ]
    },
    {
     "data": {
      "text/plain": [
       "(2500, 2)"
      ]
     },
     "execution_count": 34,
     "metadata": {},
     "output_type": "execute_result"
    }
   ],
   "source": [
    "#50x50\n",
    "#input = 2500, hidden layer = 1, neuron = 2\n",
    "n = 2500\n",
    "stddev = np.sqrt(2/n)\n",
    "hiddenNeurons = 2\n",
    "v = np.random.normal(loc=0, scale = stddev, size = (n, hiddenNeurons))\n",
    "print(v)\n",
    "np.shape(v)"
   ]
  },
  {
   "cell_type": "code",
   "execution_count": 35,
   "metadata": {},
   "outputs": [
    {
     "name": "stdout",
     "output_type": "stream",
     "text": [
      "[[ 0.02678651  0.00921741]\n",
      " [ 0.00089084  0.00889678]\n",
      " [-0.01075283 -0.02339878]\n",
      " ...\n",
      " [ 0.02782261  0.02630598]\n",
      " [-0.04833084 -0.06449617]\n",
      " [ 0.01387595 -0.00938012]]\n"
     ]
    },
    {
     "data": {
      "text/plain": [
       "(4900, 2)"
      ]
     },
     "execution_count": 35,
     "metadata": {},
     "output_type": "execute_result"
    }
   ],
   "source": [
    "#70x70\n",
    "#input = 4900, hiddenLayer = 1, neuron = 2\n",
    "\n",
    "n = 4900\n",
    "stddev = np.sqrt(2/n)\n",
    "hiddenNeurons = 2\n",
    "v = np.random.normal(loc=0, scale = stddev, size = (n, hiddenNeurons))\n",
    "print(v)\n",
    "np.shape(v)"
   ]
  },
  {
   "cell_type": "code",
   "execution_count": 37,
   "metadata": {},
   "outputs": [
    {
     "name": "stdout",
     "output_type": "stream",
     "text": [
      "[[-0.00163303 -0.04368407]\n",
      " [-0.07560497  0.0440807 ]\n",
      " [-0.08900147 -0.04426218]\n",
      " ...\n",
      " [-0.02109804 -0.10316508]\n",
      " [ 0.00626729  0.00730243]\n",
      " [-0.05159767 -0.02713526]]\n"
     ]
    },
    {
     "data": {
      "text/plain": [
       "(900, 2)"
      ]
     },
     "execution_count": 37,
     "metadata": {},
     "output_type": "execute_result"
    }
   ],
   "source": [
    "#30x30\n",
    "#input = 900, hiddenLayer = 1, neuron = 2\n",
    "\n",
    "n = 900\n",
    "stddev = np.sqrt(2/n)\n",
    "hiddenNeurons = 2\n",
    "v = np.random.normal(loc=0, scale = stddev, size = (n, hiddenNeurons))\n",
    "print(v)\n",
    "np.shape(v)"
   ]
  },
  {
   "cell_type": "markdown",
   "metadata": {},
   "source": [
    "Bias Weight Initialization with He"
   ]
  },
  {
   "cell_type": "code",
   "execution_count": 38,
   "metadata": {},
   "outputs": [
    {
     "name": "stdout",
     "output_type": "stream",
     "text": [
      "[[-0.01435054  0.03950624]]\n"
     ]
    },
    {
     "data": {
      "text/plain": [
       "(1, 2)"
      ]
     },
     "execution_count": 38,
     "metadata": {},
     "output_type": "execute_result"
    }
   ],
   "source": [
    "vb = np.random.normal(loc=0, scale = stddev, size = (1, hiddenNeurons))\n",
    "print(vb)\n",
    "np.shape(vb)"
   ]
  }
 ],
 "metadata": {
  "kernelspec": {
   "display_name": "Python 3",
   "language": "python",
   "name": "python3"
  },
  "language_info": {
   "codemirror_mode": {
    "name": "ipython",
    "version": 3
   },
   "file_extension": ".py",
   "mimetype": "text/x-python",
   "name": "python",
   "nbconvert_exporter": "python",
   "pygments_lexer": "ipython3",
   "version": "3.12.4"
  }
 },
 "nbformat": 4,
 "nbformat_minor": 2
}
