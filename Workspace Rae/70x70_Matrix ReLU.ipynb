{
 "cells": [
  {
   "cell_type": "markdown",
   "metadata": {},
   "source": [
    "**BPNN Matrix Image Resize 70x70**"
   ]
  },
  {
   "cell_type": "markdown",
   "metadata": {},
   "source": [
    "Import Library"
   ]
  },
  {
   "cell_type": "code",
   "execution_count": 17,
   "metadata": {},
   "outputs": [],
   "source": [
    "import os \n",
    "import numpy as np\n",
    "import matplotlib.pyplot as plt \n",
    "import matplotlib.pyplot as plt\n",
    "import seaborn as sns\n",
    "from sklearn.metrics import confusion_matrix, accuracy_score\n",
    "from PIL import Image\n",
    "import numpy as np\n",
    "import math\n",
    "from numpy.random import normal"
   ]
  },
  {
   "cell_type": "markdown",
   "metadata": {},
   "source": [
    "Flatten"
   ]
  },
  {
   "cell_type": "code",
   "execution_count": 18,
   "metadata": {},
   "outputs": [
    {
     "name": "stdout",
     "output_type": "stream",
     "text": [
      "Found folders: ['Azmira', 'David', 'Dimas', 'Fadhli', 'Fadlin', 'Hafidz', 'Haidar', 'Hanna', 'Keiko', 'Khansa', 'Mikhael', 'Puti', 'Raesa', 'Satwika', 'Toni']\n",
      "Input array shape: (346, 4900)\n",
      "Output array shape: (346, 15)\n"
     ]
    }
   ],
   "source": [
    "input_directory = \"../Dataset/Foto_Resize_70x70\"\n",
    "\n",
    "# List all folders in the input directory\n",
    "folders = [f for f in os.listdir(input_directory) if os.path.isdir(os.path.join(input_directory, f))]\n",
    "print(f\"Found folders: {folders}\")\n",
    "\n",
    "# Initialize arrays for inputs and outputs\n",
    "X = []\n",
    "Y = []\n",
    "\n",
    "# Create a mapping from folder names to one-hot encoded labels\n",
    "label_map = {folder: idx for idx, folder in enumerate(folders)}\n",
    "num_classes = len(folders)\n",
    "\n",
    "# Process each folder and photo\n",
    "for folder in folders:\n",
    "    folder_path = os.path.join(input_directory, folder)\n",
    "    \n",
    "    # Sort the list of photos to ensure consistent order\n",
    "    photos = sorted([p for p in os.listdir(folder_path) if p.endswith(('.png', '.jpg', '.jpeg'))])\n",
    "    \n",
    "    for photo in photos:\n",
    "        photo_path = os.path.join(folder_path, photo)\n",
    "        image = Image.open(photo_path)\n",
    "        \n",
    "        # Convert the image to a numpy array and flatten it\n",
    "        image_array = np.array(image).flatten()\n",
    "        X.append(image_array)\n",
    "        \n",
    "        # Create a one-hot encoded label\n",
    "        label = np.zeros(num_classes)\n",
    "        label[label_map[folder]] = 1\n",
    "        Y.append(label)\n",
    "\n",
    "# Convert lists to numpy arrays\n",
    "X = np.array(X)\n",
    "X = X/255;\n",
    "Y = np.array(Y)\n",
    "\n",
    "print(f\"Input array shape: {X.shape}\")\n",
    "print(f\"Output array shape: {Y.shape}\")\n",
    "\n",
    "import numpy as np\n",
    "\n",
    "def split_data(X, Y, train_ratio, val_ratio):\n",
    "  # Acak data\n",
    "  num_samples = X.shape[0]  # Assume X and Y have the same number of samples\n",
    "  indices = np.arange(num_samples)\n",
    "  np.random.shuffle(indices)\n",
    "\n",
    "  # Cari banyak data atau indeks yang akan digunakan untuk training dan validasi\n",
    "  train_idx = int(train_ratio * num_samples)\n",
    "  val_idx = int((train_ratio + val_ratio) * num_samples)\n",
    "\n",
    "  # Split data\n",
    "  X_train = X[indices[:train_idx]]\n",
    "  Y_train = Y[indices[:train_idx]]\n",
    "  X_val = X[indices[train_idx:val_idx]]\n",
    "  Y_val = Y[indices[train_idx:val_idx]]\n",
    "  X_test = X[indices[val_idx:]]\n",
    "  Y_test = Y[indices[val_idx:]]\n",
    "\n",
    "  # Kembalikan X Y untuk training, validasi, dan testing\n",
    "  return X_train, Y_train, X_val, Y_val, X_test, Y_test\n",
    "\n"
   ]
  },
  {
   "cell_type": "code",
   "execution_count": 19,
   "metadata": {},
   "outputs": [],
   "source": [
    "X_train, Y_train, X_val, Y_val, X_test, Y_test = split_data(X, Y, train_ratio=0.5, val_ratio=0.25)"
   ]
  },
  {
   "cell_type": "markdown",
   "metadata": {},
   "source": [
    "Functions"
   ]
  },
  {
   "cell_type": "code",
   "execution_count": 20,
   "metadata": {},
   "outputs": [],
   "source": [
    "def ReLU(x):\n",
    "    return np.maximum(0, x)\n",
    "    \n",
    "def Softmax(x):\n",
    "    exp_x = np.exp(x - np.max(x, axis=0, keepdims=True))\n",
    "    return exp_x / np.sum(exp_x, axis=0, keepdims=True)\n",
    "\n",
    "def d_ReLU(x):\n",
    "    return (x > 0).astype(float)\n",
    "\n",
    "def ELU(x):\n",
    "    if(x<0):\n",
    "        return 0.03*(np.exp(x)-1)\n",
    "    if(x>=0):\n",
    "        return x\n",
    "\n",
    "def d_ELU(x):\n",
    "    if(x<0):\n",
    "        return ELU(x)+0.03\n",
    "    if(x>=0):\n",
    "        return 1\n"
   ]
  },
  {
   "cell_type": "markdown",
   "metadata": {},
   "source": [
    "Defining Variables and Biases"
   ]
  },
  {
   "cell_type": "code",
   "execution_count": null,
   "metadata": {},
   "outputs": [
    {
     "name": "stdout",
     "output_type": "stream",
     "text": [
      "(30, 4900)\n",
      "(30, 1)\n",
      "(15, 30)\n",
      "(15, 1)\n",
      "[[-0.02911705  0.01057361  0.00200291 ... -0.03337529  0.01386665\n",
      "   0.02773583]\n",
      " [ 0.00993267  0.00481481 -0.02001399 ... -0.04554517  0.00029966\n",
      "  -0.01081664]\n",
      " [-0.01252825  0.00337547 -0.00176082 ...  0.00438153 -0.00084887\n",
      "  -0.00912523]\n",
      " ...\n",
      " [ 0.01469051 -0.00905836 -0.00054395 ... -0.02304708  0.0208609\n",
      "  -0.02505777]\n",
      " [ 0.01373012 -0.01734835  0.01073636 ... -0.01359527  0.02189516\n",
      "   0.01024329]\n",
      " [-0.00856172 -0.01604761  0.01336771 ...  0.00582972  0.00660897\n",
      "   0.00020954]]\n",
      "[[-0.00586755]\n",
      " [-0.00599349]\n",
      " [-0.00611469]\n",
      " [-0.0024365 ]\n",
      " [-0.03617211]\n",
      " [-0.00550025]\n",
      " [ 0.02929525]\n",
      " [ 0.01097358]\n",
      " [-0.01106056]\n",
      " [-0.01947757]\n",
      " [-0.03750309]\n",
      " [ 0.01451674]\n",
      " [-0.02220265]\n",
      " [-0.00200132]\n",
      " [-0.02438681]\n",
      " [-0.01550503]\n",
      " [ 0.00571621]\n",
      " [-0.00216868]\n",
      " [ 0.01306083]\n",
      " [-0.02056424]\n",
      " [-0.0114546 ]\n",
      " [-0.00562665]\n",
      " [ 0.00427521]\n",
      " [ 0.03890669]\n",
      " [ 0.02005341]\n",
      " [ 0.01048939]\n",
      " [-0.01916849]\n",
      " [-0.03446033]\n",
      " [ 0.04221444]\n",
      " [-0.00552932]]\n",
      "[[-0.19821405  0.25446746  0.06070283 -0.09826087 -0.20027849  0.62459713\n",
      "  -0.00928357 -0.20210821 -0.0370866   0.42625918  0.71055728  0.137906\n",
      "  -0.41829704 -0.4906099   0.18760957 -0.36955802  0.48644837  0.11213108\n",
      "  -0.07305194  0.19172346  0.00718669 -0.32123181  0.08723839  0.0159855\n",
      "  -0.00452672 -0.31515021 -0.51167979  0.14881102 -0.20894036 -0.42242566]\n",
      " [ 0.00389178  0.20831971  0.01876634 -0.20065935 -0.35183014 -0.28741143\n",
      "   0.13887239 -0.1180888  -0.22538298 -0.09013873 -0.00357285 -0.16722518\n",
      "  -0.07618007 -0.01875265  0.1793617   0.03706581 -0.48459499  0.20655392\n",
      "   0.20356433  0.15524791  0.06756661  0.06832363  0.22645028 -0.24437576\n",
      "   0.26917524  0.21124908 -0.08553712  0.03938606  0.44249236 -0.10994957]\n",
      " [-0.23809997  0.06902628  0.06307997  0.30551728 -0.37443423 -0.27907157\n",
      "   0.14991745 -0.22167304 -0.45799987  0.06051207 -0.00689689 -0.01946994\n",
      "  -0.07654683 -0.07352791 -0.06989113 -0.23366875  0.48506316 -0.20997012\n",
      "  -0.02037121  0.17638989  0.21026599  0.4496611  -0.29080181  0.0995961\n",
      "   0.11572375 -0.05027849  0.05622525  0.2663766   0.34973498  0.13798188]\n",
      " [-0.25230394 -0.01031063  0.16969374 -0.00451834 -0.32928079 -0.30325032\n",
      "   0.02587799 -0.07388436  0.07406922 -0.39100354  0.10947254  0.56492912\n",
      "   0.34216776  0.00486072 -0.512233    0.25422038  0.25664113 -0.15694771\n",
      "   0.02166126 -0.18693676  0.32237698 -0.11213584 -0.05196352  0.32227204\n",
      "   0.01600126  0.38292165 -0.11576556  0.01600445  0.15720923  0.35160075]\n",
      " [-0.03420853 -0.03967159  0.08082536  0.19631445 -0.23016391  0.04154974\n",
      "  -0.10058291 -0.36453771 -0.03747114 -0.1975479  -0.19685014 -0.4707886\n",
      "  -0.01805583 -0.09515938  0.09466356  0.13381392 -0.31014093  0.40886924\n",
      "  -0.08195943  0.17815633 -0.1029204  -0.05088091 -0.22945719  0.08033655\n",
      "  -0.31322529  0.31739665 -0.22615929  0.00411058 -0.00492198  0.18199212]\n",
      " [ 0.08783667  0.02500205  0.02046451  0.16257001  0.00190259 -0.20137051\n",
      "   0.05052925 -0.40195173  0.17779709  0.31971532 -0.13651762 -0.08710811\n",
      "   0.08664953 -0.05194102  0.04010708 -0.00472898  0.56327301 -0.12566895\n",
      "  -0.42507984  0.01920601 -0.09659867  0.22556927 -0.26705704  0.37785535\n",
      "  -0.3941877   0.12599899 -0.36556114  0.02645486 -0.18748505 -0.00077   ]\n",
      " [-0.34543063 -0.26976656  0.15156002  0.19390538  0.30297432 -0.20173981\n",
      "  -0.04064177 -0.22521924 -0.00622731 -0.05498671  0.35286072 -0.56960916\n",
      "  -0.35911463 -0.10008578  0.07392119  0.17743696 -0.18445566  0.42383858\n",
      "   0.3993631   0.03443512  0.02650743  0.18522677 -0.06056744  0.16642969\n",
      "   0.47627565 -0.17103326 -0.13647587  0.05862955  0.1018052   0.19169883]\n",
      " [-0.03603801 -0.35240279 -0.1274233   0.12098072  0.02888996  0.29097763\n",
      "   0.14555669 -0.25933067 -0.04337908  0.24276664  0.05823811  0.26702118\n",
      "  -0.35922712  0.30304795  0.18888068 -0.16559791  0.43665738 -0.00328752\n",
      "  -0.19235122 -0.19007256  0.22181749  0.03685769 -0.32318766  0.17473404\n",
      "  -0.03723786 -0.07748222 -0.11749701  0.47932579 -0.35027314 -0.25464022]\n",
      " [ 0.07215714 -0.08979375  0.08061717 -0.08724119 -0.17470935 -0.38339941\n",
      "  -0.35031411 -0.14398332  0.19109402  0.01323884  0.12109517  0.2620196\n",
      "  -0.15914968 -0.23994499  0.41646453  0.33538496  0.52070663 -0.19394689\n",
      "   0.08829737 -0.20193852 -0.35247067 -0.07426996  0.4091408  -0.36037479\n",
      "  -0.15103475  0.1268139   0.29432729  0.10654507  0.33316524  0.24301371]\n",
      " [ 0.13785128 -0.0615999   0.45499119 -0.20495318  0.19131488  0.2849333\n",
      "   0.34121849  0.41470876 -0.37836815  0.22944485  0.27338114 -0.16689289\n",
      "  -0.06274543 -0.31252226 -0.21690777  0.59157889 -0.11965349  0.29436699\n",
      "   0.4797127  -0.40130211  0.34516823 -0.11336201 -0.00673345  0.0712273\n",
      "  -0.24541937 -0.25500853 -0.09305544 -0.1892001  -0.36952758 -0.16719614]\n",
      " [-0.19112689  0.08883766 -0.03777253  0.07379128  0.06124663  0.16540398\n",
      "   0.28520745 -0.18365777  0.12798656  0.28121354 -0.08629788 -0.11117492\n",
      "  -0.08042023  0.53112631 -0.21519616  0.17067286  0.23667166 -0.04413004\n",
      "   0.17432422 -0.31429638 -0.03029568  0.08851728 -0.21503504 -0.54649072\n",
      "  -0.07095331  0.4945416  -0.13191658 -0.06040984 -0.2751811   0.36847583]\n",
      " [ 0.48624385 -0.1575817   0.30566836 -0.136928    0.13518202 -0.30912668\n",
      "  -0.07593666  0.00553456 -0.21379704  0.0962153   0.18238312  0.28477411\n",
      "   0.47543738 -0.50394045  0.03972505 -0.11823385 -0.16976006 -0.00625374\n",
      "   0.15828016  0.03982518  0.08652558  0.02758767 -0.13759558  0.64638668\n",
      "  -0.28159309  0.2120844   0.01103124 -0.31297127 -0.07725749  0.18565604]\n",
      " [-0.10028305 -0.02560189 -0.09001398  0.09233577 -0.34332781 -0.33443474\n",
      "   0.0704021  -0.08419322 -0.0298977  -0.2233397   0.14439231  0.31398526\n",
      "   0.06173112  0.64036417 -0.26281337 -0.17376526 -0.13966788  0.06333229\n",
      "  -0.00271279  0.03930418  0.24634873  0.1036492  -0.1395402   0.57729551\n",
      "  -0.28290499 -0.41591561 -0.12181405  0.18054808 -0.09405891 -0.13658901]\n",
      " [-0.37302358  0.12173123  0.0928593  -0.13777388 -0.16008742  0.1946676\n",
      "   0.22086508 -0.28592914 -0.32386199 -0.04486248 -0.1436092  -0.17344439\n",
      "  -0.1354961  -0.0130416   0.08112924  0.17642297 -0.13734671 -0.13546604\n",
      "  -0.41164062  0.19347412  0.1943661   0.27032211  0.58821662  0.08773421\n",
      "  -0.37868398 -0.11287171 -0.24913765 -0.1114025  -0.48340882 -0.37266492]\n",
      " [ 0.21273706  0.13749437 -0.66637764  0.27949265  0.02658762 -0.01751278\n",
      "   0.36782608 -0.00955544 -0.06276489  0.04744812  0.07727641 -0.42687699\n",
      "   0.11955581  0.53571503 -0.17904846 -0.04034456  0.11929184 -0.24840587\n",
      "   0.18231479 -0.23756042  0.20540158 -0.43745639  0.16006993 -0.05661936\n",
      "  -0.08885485 -0.15281686 -0.18234167  0.12365712  0.09729811  0.16868302]]\n",
      "[[-0.10400608]\n",
      " [ 0.11227912]\n",
      " [-0.32772312]\n",
      " [ 0.14479205]\n",
      " [-0.41262945]\n",
      " [ 0.2089216 ]\n",
      " [ 0.08306365]\n",
      " [-0.22515846]\n",
      " [ 0.29871052]\n",
      " [-0.26606893]\n",
      " [ 0.22412904]\n",
      " [-0.20704085]\n",
      " [-0.16981002]\n",
      " [ 0.20234262]\n",
      " [-0.01931217]]\n"
     ]
    }
   ],
   "source": [
    "inputNeurons = 4900\n",
    "hiddenLayer = 1\n",
    "outputNeurons = 15\n",
    "hiddenNeurons = 30\n",
    "\n",
    "stddev = np.sqrt(2 / inputNeuron)\n",
    "v = np.random.normal(loc=0, scale = stddev, size = (inputNeurons, hiddenNeurons))\n",
    "v = v.T\n",
    "print(np.shape(v))\n",
    "vb = np.random.normal(loc=0, scale=stddev, size=hiddenNeurons) \n",
    "vb = vb.reshape(hiddenNeurons,1)\n",
    "print(np.shape(vb))\n",
    "stddev = np.sqrt(2 / hiddenNeurons)\n",
    "w = np.random.normal(loc=0, scale = stddev, size = (hiddenNeurons, outputNeurons))\n",
    "w = w.T\n",
    "print(np.shape(w))\n",
    "wb = np.random.normal(loc=0, scale = stddev, size = outputNeurons)\n",
    "wb = wb.reshape(15,1)\n",
    "print(np.shape(wb))\n",
    "\n",
    "X = X_train.T\n",
    "Y = Y_train.T\n",
    "\n",
    "\n",
    "print(v)\n",
    "print(vb)\n",
    "print(w)\n",
    "print(wb)\n"
   ]
  },
  {
   "cell_type": "markdown",
   "metadata": {},
   "source": [
    "**Main BPNN Process using ReLU and Softmax** "
   ]
  },
  {
   "cell_type": "markdown",
   "metadata": {},
   "source": [
    "Training"
   ]
  },
  {
   "cell_type": "code",
   "execution_count": 22,
   "metadata": {},
   "outputs": [],
   "source": [
    "for i in range(1000):\n",
    "\n",
    "    z_in = np.dot(v,X) + vb\n",
    "    z = ReLU(z_in)\n",
    "\n",
    "    y_in = np.dot(w,z) + wb\n",
    "    y = Softmax(y_in)\n",
    "\n",
    "    sigma_k = y-Y\n",
    "\n",
    "    delta_w = (1/X.shape[1])*np.dot(sigma_k,z.T)\n",
    "    delta_wb = (1/X.shape[1])*np.sum(sigma_k)\n",
    "\n",
    "    sigma_in = np.dot(w.T,sigma_k)*d_ReLU(z_in)\n",
    "\n",
    "    delta_v = (1/X.shape[1])*np.dot(sigma_in,X.T)\n",
    "    delta_vb = (1/X.shape[1])*np.sum(sigma_in)\n",
    "\n",
    "    alpha = 0.03\n",
    "    w -= alpha*delta_w\n",
    "    wb -= alpha*delta_wb\n",
    "    v -= alpha*delta_v\n",
    "    vb -= alpha*delta_vb\n"
   ]
  },
  {
   "cell_type": "markdown",
   "metadata": {},
   "source": [
    "Validation"
   ]
  },
  {
   "cell_type": "code",
   "execution_count": 23,
   "metadata": {},
   "outputs": [],
   "source": [
    "X = X_val.T\n",
    "Y = Y_val.T\n",
    "\n",
    "def validation(X, v, vb, w, wb):\n",
    "    z_in = np.dot(v,X) + vb\n",
    "    z = ReLU(z_in)\n",
    "\n",
    "    y_in = np.dot(w,z) + wb\n",
    "    y = Softmax(y_in)\n",
    "    return y\n",
    "\n",
    "\n",
    "# Prediksi\n",
    "Y_pred = validation(X, v, vb, w, wb)\n"
   ]
  },
  {
   "cell_type": "markdown",
   "metadata": {},
   "source": [
    "Testing"
   ]
  },
  {
   "cell_type": "code",
   "execution_count": 24,
   "metadata": {},
   "outputs": [
    {
     "name": "stdout",
     "output_type": "stream",
     "text": [
      "Akurasi: 0.13793103448275862\n"
     ]
    },
    {
     "data": {
      "image/png": "[encoded data removed]",
      "text/plain": [
       "<Figure size 1000x1000 with 2 Axes>"
      ]
     },
     "metadata": {},
     "output_type": "display_data"
    }
   ],
   "source": [
    "import numpy as np\n",
    "import matplotlib.pyplot as plt\n",
    "import seaborn as sns\n",
    "from sklearn.metrics import confusion_matrix\n",
    "\n",
    "X = X_test.T\n",
    "Y = Y_test.T\n",
    "\n",
    "def test(X, v, vb, w, wb):\n",
    "    z_in = np.dot(v, X) + vb\n",
    "    z = ReLU(z_in)\n",
    "    y_in = np.dot(w, z) + wb\n",
    "    y = Softmax(y_in)  # Assuming you have defined the Softmax function\n",
    "    return y\n",
    "\n",
    "# Fungsi Feedforward (untuk prediksi output)\n",
    "Y_pred = test(X, v, vb, w, wb)\n",
    "\n",
    "# Nama sesuai urutan folder\n",
    "nama = ['Azmira', 'David', 'Dimas', 'Fadhli', 'Fadlin', 'Hafidz', 'Haidar', 'Hanna', 'Keiko', 'Khansa', 'Mikhael', 'Puti', 'Raesa', 'Satwika', 'Toni']\n",
    "\n",
    "prediksi = np.argmax(Y_pred, axis = 0) # mencari baris dengan nilai tertinggi untuk tiap data, ukuran Y_pred = (15, 52)\n",
    "\n",
    "aktual = np.argmax(Y, axis = 0) # mencari baris dengan nilai tertinggi untuk tiap data, ukuran Y = (15, 52)\n",
    "\n",
    "# Mencari Confusion Matrix\n",
    "confusionMatrix = confusion_matrix(prediksi, aktual)\n",
    "\n",
    "# Mencari Akurasi\n",
    "akurasi = accuracy_score(aktual, prediksi)\n",
    "print(f\"Akurasi: {akurasi}\") # tampilkan akurasi\n",
    "\n",
    "# Tampilkan Confusion Matrix\n",
    "plt.figure(figsize = (10,10))\n",
    "sns.heatmap(confusionMatrix, annot=True, fmt=\"d\", cmap=\"Blues\", xticklabels=nama, yticklabels=nama)\n",
    "plt.xlabel(\"Prediksi\")\n",
    "plt.ylabel(\"Aktual\")\n",
    "plt.title(\"Confusion Matrix 70x70 BPNN\")\n",
    "plt.show()"
   ]
  }
 ],
 "metadata": {
  "kernelspec": {
   "display_name": "Python 3",
   "language": "python",
   "name": "python3"
  },
  "language_info": {
   "codemirror_mode": {
    "name": "ipython",
    "version": 3
   },
   "file_extension": ".py",
   "mimetype": "text/x-python",
   "name": "python",
   "nbconvert_exporter": "python",
   "pygments_lexer": "ipython3",
   "version": "3.12.4"
  }
 },
 "nbformat": 4,
 "nbformat_minor": 2
}
