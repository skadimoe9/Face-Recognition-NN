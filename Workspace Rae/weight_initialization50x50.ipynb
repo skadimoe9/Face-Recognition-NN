{
 "cells": [
  {
   "cell_type": "code",
   "execution_count": 14,
   "metadata": {},
   "outputs": [],
   "source": [
    "import numpy as np\n",
    "from numpy.random import normal"
   ]
  },
  {
   "cell_type": "code",
   "execution_count": 30,
   "metadata": {},
   "outputs": [
    {
     "name": "stdout",
     "output_type": "stream",
     "text": [
      "[ 0.02892593  0.00886095 -0.06811305 ...  0.03826577  0.03181252\n",
      " -0.02950058]\n"
     ]
    },
    {
     "data": {
      "text/plain": [
       "(2500,)"
      ]
     },
     "execution_count": 30,
     "metadata": {},
     "output_type": "execute_result"
    }
   ],
   "source": [
    "#50x50\n",
    "#input = 2500, output = 5\n",
    "n = 2500\n",
    "stddev = sqrt(2/n)\n",
    "weights50_input = normal(0,stddev,2500)\n",
    "print(weights50_input)\n",
    "np.shape(weights50_input)"
   ]
  },
  {
   "cell_type": "code",
   "execution_count": 24,
   "metadata": {},
   "outputs": [
    {
     "name": "stdout",
     "output_type": "stream",
     "text": [
      "[ 0.33776929 -0.0395075  -0.10255622  0.09588533 -0.74018385 -1.16235268\n",
      "  0.20957071 -0.39465249  0.62990329 -0.7387824  -0.61099338  1.52607144\n",
      " -0.01940143  0.409651    0.5296033 ]\n"
     ]
    },
    {
     "data": {
      "text/plain": [
       "(15,)"
      ]
     },
     "execution_count": 24,
     "metadata": {},
     "output_type": "execute_result"
    }
   ],
   "source": [
    "#50x50\n",
    "#input = 5, output = 15\n",
    "n = 5\n",
    "stddev = sqrt(2/n)\n",
    "weights50_hidden = normal(0,stddev,15)\n",
    "print(weights50_hidden)\n",
    "np.shape(weights50_hidden)"
   ]
  },
  {
   "cell_type": "code",
   "execution_count": null,
   "metadata": {},
   "outputs": [
    {
     "name": "stdout",
     "output_type": "stream",
     "text": [
      "[ 0.76994918  0.57210248 -0.64571107 ...  0.11171334  0.04955043\n",
      "  0.77431322]\n"
     ]
    },
    {
     "data": {
      "text/plain": [
       "(4900,)"
      ]
     },
     "execution_count": 25,
     "metadata": {},
     "output_type": "execute_result"
    }
   ],
   "source": [
    "#70x70\n",
    "#input = 4900, output = 5\n",
    "\n",
    "n = 4900\n",
    "stddev = sqrt(2/n)\n",
    "weights70_input = normal(0,stddev,4900)\n",
    "print(weights70_input)\n",
    "np.shape(weights70_input)"
   ]
  },
  {
   "cell_type": "code",
   "execution_count": 26,
   "metadata": {},
   "outputs": [
    {
     "name": "stdout",
     "output_type": "stream",
     "text": [
      "[ 0.51067074 -0.50927389  0.09465648 -1.28300947 -1.47971393  0.49417174\n",
      "  0.86714723 -0.54823937  0.02214359 -0.1009386  -0.89972926 -0.14822433\n",
      " -0.15836095 -0.6378177  -0.32552566]\n"
     ]
    },
    {
     "data": {
      "text/plain": [
       "(15,)"
      ]
     },
     "execution_count": 26,
     "metadata": {},
     "output_type": "execute_result"
    }
   ],
   "source": [
    "#70x70\n",
    "#input = 5, output = 15\n",
    "\n",
    "n = 5\n",
    "stddev = sqrt(2/n)\n",
    "weights70_hidden = normal(0,stddev,15)\n",
    "print(weights70_hidden)\n",
    "np.shape(weights70_hidden)"
   ]
  },
  {
   "cell_type": "code",
   "execution_count": 31,
   "metadata": {},
   "outputs": [
    {
     "name": "stdout",
     "output_type": "stream",
     "text": [
      "[-0.02281603 -0.02844289 -0.01130367 ... -0.02744476  0.06368263\n",
      "  0.0036593 ]\n"
     ]
    },
    {
     "data": {
      "text/plain": [
       "(2500,)"
      ]
     },
     "execution_count": 31,
     "metadata": {},
     "output_type": "execute_result"
    }
   ],
   "source": [
    "#30x30\n",
    "#input = 2500, output = 3\n",
    "\n",
    "n = 2500\n",
    "stddev = sqrt(2/n)\n",
    "weights70_hidden = normal(0,stddev,2500)\n",
    "print(weights70_hidden)\n",
    "np.shape(weights70_hidden)"
   ]
  },
  {
   "cell_type": "code",
   "execution_count": 27,
   "metadata": {},
   "outputs": [
    {
     "name": "stdout",
     "output_type": "stream",
     "text": [
      "[-7.22856106e-02  1.13326130e+00  5.78942239e-01 -2.75402078e-01\n",
      "  6.73108734e-01  2.01063640e-01 -8.43340380e-01 -6.31570905e-01\n",
      " -8.63187738e-02 -6.08170596e-01  1.27924326e-04 -1.11916540e+00\n",
      " -3.16746482e-01 -1.76866539e+00 -1.03162750e+00]\n"
     ]
    },
    {
     "data": {
      "text/plain": [
       "(15,)"
      ]
     },
     "execution_count": 27,
     "metadata": {},
     "output_type": "execute_result"
    }
   ],
   "source": [
    "#30x30\n",
    "#input = 3, output = 15\n",
    "\n",
    "n = 3\n",
    "stddev = sqrt(2/n)\n",
    "weights70_hidden = normal(0,stddev,15)\n",
    "print(weights70_hidden)\n",
    "np.shape(weights70_hidden)"
   ]
  }
 ],
 "metadata": {
  "kernelspec": {
   "display_name": "Python 3",
   "language": "python",
   "name": "python3"
  },
  "language_info": {
   "codemirror_mode": {
    "name": "ipython",
    "version": 3
   },
   "file_extension": ".py",
   "mimetype": "text/x-python",
   "name": "python",
   "nbconvert_exporter": "python",
   "pygments_lexer": "ipython3",
   "version": "3.12.4"
  }
 },
 "nbformat": 4,
 "nbformat_minor": 2
}
