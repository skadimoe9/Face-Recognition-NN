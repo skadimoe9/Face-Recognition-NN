{
 "cells": [
  {
   "cell_type": "code",
   "execution_count": 14,
   "metadata": {},
   "outputs": [],
   "source": [
    "import numpy as np\n",
    "from numpy.random import normal"
   ]
  },
  {
   "cell_type": "code",
   "execution_count": 35,
   "metadata": {},
   "outputs": [
    {
     "name": "stdout",
     "output_type": "stream",
     "text": [
      "[-0.03658116 -0.00673266 -0.03250134 ... -0.06930743 -0.00130996\n",
      " -0.03576519]\n"
     ]
    },
    {
     "data": {
      "text/plain": [
       "(12500,)"
      ]
     },
     "execution_count": 35,
     "metadata": {},
     "output_type": "execute_result"
    }
   ],
   "source": [
    "#50x50\n",
    "#input = 2500, output = 5\n",
    "n = 2500\n",
    "stddev = sqrt(2/n)\n",
    "weights50_input = normal(0,stddev,12500)\n",
    "print(weights50_input)\n",
    "np.shape(weights50_input)"
   ]
  },
  {
   "cell_type": "code",
   "execution_count": 34,
   "metadata": {},
   "outputs": [
    {
     "name": "stdout",
     "output_type": "stream",
     "text": [
      "[-0.02963677  0.01870231 -0.00515021 ...  0.03071267  0.01491016\n",
      "  0.04970373]\n"
     ]
    },
    {
     "data": {
      "text/plain": [
       "(34300,)"
      ]
     },
     "execution_count": 34,
     "metadata": {},
     "output_type": "execute_result"
    }
   ],
   "source": [
    "#70x70\n",
    "#input = 4900, output = 7\n",
    "\n",
    "n = 4900\n",
    "stddev = sqrt(2/n)\n",
    "weights70_input = normal(0,stddev,34300)\n",
    "print(weights70_input)\n",
    "np.shape(weights70_input)"
   ]
  },
  {
   "cell_type": "code",
   "execution_count": 33,
   "metadata": {},
   "outputs": [
    {
     "name": "stdout",
     "output_type": "stream",
     "text": [
      "[-0.02222109  0.04379184 -0.02995604 ...  0.09616013  0.02813264\n",
      "  0.04171909]\n"
     ]
    },
    {
     "data": {
      "text/plain": [
       "(2700,)"
      ]
     },
     "execution_count": 33,
     "metadata": {},
     "output_type": "execute_result"
    }
   ],
   "source": [
    "#30x30\n",
    "#input = 900, output = 3\n",
    "\n",
    "n = 2500\n",
    "stddev = sqrt(2/n)\n",
    "weights70_hidden = normal(0,stddev,2700)\n",
    "print(weights70_hidden)\n",
    "np.shape(weights70_hidden)"
   ]
  }
 ],
 "metadata": {
  "kernelspec": {
   "display_name": "Python 3",
   "language": "python",
   "name": "python3"
  },
  "language_info": {
   "codemirror_mode": {
    "name": "ipython",
    "version": 3
   },
   "file_extension": ".py",
   "mimetype": "text/x-python",
   "name": "python",
   "nbconvert_exporter": "python",
   "pygments_lexer": "ipython3",
   "version": "3.12.4"
  }
 },
 "nbformat": 4,
 "nbformat_minor": 2
}
