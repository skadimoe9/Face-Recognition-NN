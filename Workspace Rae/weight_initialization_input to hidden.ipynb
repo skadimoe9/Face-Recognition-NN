{
 "cells": [
  {
   "cell_type": "code",
   "execution_count": 26,
   "metadata": {},
   "outputs": [],
   "source": [
    "import numpy as np\n",
    "from numpy.random import normal\n",
    "import math"
   ]
  },
  {
   "cell_type": "code",
   "execution_count": 29,
   "metadata": {},
   "outputs": [
    {
     "name": "stdout",
     "output_type": "stream",
     "text": [
      "[[ 0.0632168  -0.02065939]\n",
      " [ 0.00346324  0.00144084]\n",
      " [ 0.00083517 -0.01577311]\n",
      " ...\n",
      " [-0.01260541 -0.06726566]\n",
      " [-0.00978957 -0.01331401]\n",
      " [-0.01411199  0.00324311]]\n"
     ]
    },
    {
     "data": {
      "text/plain": [
       "(2500, 2)"
      ]
     },
     "execution_count": 29,
     "metadata": {},
     "output_type": "execute_result"
    }
   ],
   "source": [
    "#50x50\n",
    "#input = 2500, hidden layer = 1, neuron = 2\n",
    "n = 2500\n",
    "stddev = np.sqrt(2/n)\n",
    "hiddenNeurons = 2\n",
    "w = np.random.normal(loc=0, scale = stddev, size = (n, hiddenNeurons))\n",
    "print(w)\n",
    "np.shape(w)"
   ]
  },
  {
   "cell_type": "code",
   "execution_count": null,
   "metadata": {},
   "outputs": [
    {
     "name": "stdout",
     "output_type": "stream",
     "text": [
      "[[ 0.03291659 -0.0005271 ]\n",
      " [ 0.008344    0.0092212 ]\n",
      " [-0.01290035 -0.01001865]\n",
      " ...\n",
      " [-0.00562919 -0.0221058 ]\n",
      " [ 0.00780508 -0.00312261]\n",
      " [ 0.01080115  0.02818051]]\n"
     ]
    },
    {
     "data": {
      "text/plain": [
       "(4900, 2)"
      ]
     },
     "execution_count": 31,
     "metadata": {},
     "output_type": "execute_result"
    }
   ],
   "source": [
    "#70x70\n",
    "#input = 4900, hiddenLayer = 1, neuron = 2\n",
    "\n",
    "n = 4900\n",
    "stddev = np.sqrt(2/n)\n",
    "hiddenNeurons = 2\n",
    "w = np.random.normal(loc=0, scale = stddev, size = (n, hiddenNeurons))\n",
    "print(w)\n",
    "np.shape(w)"
   ]
  },
  {
   "cell_type": "code",
   "execution_count": 32,
   "metadata": {},
   "outputs": [
    {
     "name": "stdout",
     "output_type": "stream",
     "text": [
      "[[-0.0185833   0.04988317]\n",
      " [-0.02885076  0.01321761]\n",
      " [ 0.04509553 -0.02021229]\n",
      " ...\n",
      " [ 0.04150255  0.02576116]\n",
      " [ 0.01758169 -0.0158154 ]\n",
      " [ 0.00634158 -0.03210009]]\n"
     ]
    },
    {
     "data": {
      "text/plain": [
       "(2500, 2)"
      ]
     },
     "execution_count": 32,
     "metadata": {},
     "output_type": "execute_result"
    }
   ],
   "source": [
    "#30x30\n",
    "#input = 900, hiddenLayer = 1, neuron = 2\n",
    "\n",
    "n = 2500\n",
    "stddev = np.sqrt(2/n)\n",
    "hiddenNeurons = 2\n",
    "w = np.random.normal(loc=0, scale = stddev, size = (n, hiddenNeurons))\n",
    "print(w)\n",
    "np.shape(w)"
   ]
  }
 ],
 "metadata": {
  "kernelspec": {
   "display_name": "Python 3",
   "language": "python",
   "name": "python3"
  },
  "language_info": {
   "codemirror_mode": {
    "name": "ipython",
    "version": 3
   },
   "file_extension": ".py",
   "mimetype": "text/x-python",
   "name": "python",
   "nbconvert_exporter": "python",
   "pygments_lexer": "ipython3",
   "version": "3.12.4"
  }
 },
 "nbformat": 4,
 "nbformat_minor": 2
}
