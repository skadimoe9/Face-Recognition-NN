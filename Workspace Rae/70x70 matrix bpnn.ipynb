{
 "cells": [
  {
   "cell_type": "markdown",
   "metadata": {},
   "source": [
    "Import Library"
   ]
  },
  {
   "cell_type": "code",
   "execution_count": 124,
   "metadata": {},
   "outputs": [],
   "source": [
    "import os\n",
    "import numpy as np\n",
    "from PIL import Image\n",
    "import numpy as np\n",
    "import math\n",
    "from numpy.random import normal"
   ]
  },
  {
   "cell_type": "markdown",
   "metadata": {},
   "source": [
    "Flatten"
   ]
  },
  {
   "cell_type": "code",
   "execution_count": 125,
   "metadata": {},
   "outputs": [
    {
     "name": "stdout",
     "output_type": "stream",
     "text": [
      "Found folders: ['Azmira', 'David', 'Dimas', 'Fadhli', 'Fadlin', 'Hafidz', 'Haidar', 'Hanna', 'Keiko', 'Khansa', 'Mikhael', 'Puti', 'Raesa', 'Satwika', 'Toni']\n",
      "Input array shape: (1384, 4900)\n",
      "Output array shape: (1384, 15)\n"
     ]
    }
   ],
   "source": [
    "# Set the input directory path\n",
    "input_directory = \"../Dataset/Foto_Resize_70x70\"\n",
    "\n",
    "# List all folders in the input directory\n",
    "folders = [f for f in os.listdir(input_directory) if os.path.isdir(os.path.join(input_directory, f))]\n",
    "print(f\"Found folders: {folders}\")\n",
    "\n",
    "# Initialize arrays for inputs and outputs\n",
    "X = []\n",
    "Y = []\n",
    "\n",
    "# Create a mapping from folder names to one-hot encoded labels\n",
    "label_map = {folder: idx for idx, folder in enumerate(folders)}\n",
    "num_classes = len(folders)\n",
    "\n",
    "# Process each folder and photo\n",
    "for folder in folders:\n",
    "    folder_path = os.path.join(input_directory, folder)\n",
    "    \n",
    "    # Sort the list of photos to ensure consistent order\n",
    "    photos = sorted([p for p in os.listdir(folder_path) if p.endswith(('.png', '.jpg', '.jpeg'))])\n",
    "    \n",
    "    for photo in photos:\n",
    "        photo_path = os.path.join(folder_path, photo)\n",
    "        image = Image.open(photo_path)\n",
    "        \n",
    "        # Convert the image to a numpy array and flatten it\n",
    "        image_array = np.array(image).flatten()\n",
    "        X.append(image_array)\n",
    "        \n",
    "        # Create a one-hot encoded label\n",
    "        label = np.zeros(num_classes)\n",
    "        label[label_map[folder]] = 1\n",
    "        Y.append(label)\n",
    "\n",
    "# Convert lists to numpy arrays\n",
    "X = np.array(X)\n",
    "Y = np.array(Y)\n",
    "\n",
    "print(f\"Input array shape: {X.shape}\")\n",
    "print(f\"Output array shape: {Y.shape}\")"
   ]
  },
  {
   "cell_type": "markdown",
   "metadata": {},
   "source": [
    "Normalize X, Print Y"
   ]
  },
  {
   "cell_type": "code",
   "execution_count": 126,
   "metadata": {},
   "outputs": [
    {
     "name": "stdout",
     "output_type": "stream",
     "text": [
      "[[218 220 222 ... 137 112 103]\n",
      " [253 252 251 ... 137 127 116]\n",
      " [106 117 133 ... 220 219 218]\n",
      " ...\n",
      " [213 213 214 ...  55  50  48]\n",
      " [214 214 214 ...  70  68  68]\n",
      " [ 51  48  51 ... 213 213 212]]\n",
      "[[0.85490196 0.8627451  0.87058824 ... 0.5372549  0.43921569 0.40392157]\n",
      " [0.99215686 0.98823529 0.98431373 ... 0.5372549  0.49803922 0.45490196]\n",
      " [0.41568627 0.45882353 0.52156863 ... 0.8627451  0.85882353 0.85490196]\n",
      " ...\n",
      " [0.83529412 0.83529412 0.83921569 ... 0.21568627 0.19607843 0.18823529]\n",
      " [0.83921569 0.83921569 0.83921569 ... 0.2745098  0.26666667 0.26666667]\n",
      " [0.2        0.18823529 0.2        ... 0.83529412 0.83529412 0.83137255]]\n"
     ]
    }
   ],
   "source": [
    "print(X)\n",
    "xmax = X.max()\n",
    "xmin = X.min()\n",
    "X =  (X-xmin)/(xmax-xmin)\n",
    "print(X)"
   ]
  },
  {
   "cell_type": "code",
   "execution_count": 127,
   "metadata": {},
   "outputs": [
    {
     "name": "stdout",
     "output_type": "stream",
     "text": [
      "[[1. 0. 0. ... 0. 0. 0.]\n",
      " [1. 0. 0. ... 0. 0. 0.]\n",
      " [1. 0. 0. ... 0. 0. 0.]\n",
      " ...\n",
      " [0. 0. 0. ... 0. 0. 1.]\n",
      " [0. 0. 0. ... 0. 0. 1.]\n",
      " [0. 0. 0. ... 0. 0. 1.]]\n"
     ]
    }
   ],
   "source": [
    "print(Y)"
   ]
  },
  {
   "cell_type": "markdown",
   "metadata": {},
   "source": [
    "Initialize Layer"
   ]
  },
  {
   "cell_type": "code",
   "execution_count": 128,
   "metadata": {},
   "outputs": [],
   "source": [
    "inputLayer = 2500\n",
    "hiddenLayer = 1\n",
    "outputLayer = 15"
   ]
  },
  {
   "cell_type": "markdown",
   "metadata": {},
   "source": [
    "Calculating Weights for Input Layer to Hidden Layer"
   ]
  },
  {
   "cell_type": "code",
   "execution_count": 129,
   "metadata": {},
   "outputs": [
    {
     "name": "stdout",
     "output_type": "stream",
     "text": [
      "[[-0.04687112 -0.03142038]\n",
      " [ 0.00034887 -0.00427716]\n",
      " [ 0.00269746 -0.00635548]\n",
      " ...\n",
      " [ 0.00106347 -0.0177076 ]\n",
      " [ 0.04548289 -0.00571417]\n",
      " [ 0.01258389 -0.01122113]]\n"
     ]
    },
    {
     "data": {
      "text/plain": [
       "(4900, 2)"
      ]
     },
     "execution_count": 129,
     "metadata": {},
     "output_type": "execute_result"
    }
   ],
   "source": [
    "#70x70\n",
    "#input = 4900, hiddenLayer = 1, neuron = 2\n",
    "\n",
    "n = 4900\n",
    "stddev = np.sqrt(2/n)\n",
    "hiddenNeurons = 2\n",
    "v = np.random.normal(loc=0, scale = stddev, size = (n, hiddenNeurons))\n",
    "print(v)\n",
    "np.shape(v)"
   ]
  },
  {
   "cell_type": "code",
   "execution_count": 130,
   "metadata": {},
   "outputs": [
    {
     "name": "stdout",
     "output_type": "stream",
     "text": [
      "[[-0.01984094  0.00283023]]\n"
     ]
    },
    {
     "data": {
      "text/plain": [
       "(1, 2)"
      ]
     },
     "execution_count": 130,
     "metadata": {},
     "output_type": "execute_result"
    }
   ],
   "source": [
    "vb = np.random.normal(loc=0, scale = stddev, size = (1, hiddenNeurons))\n",
    "print(vb)\n",
    "np.shape(vb)"
   ]
  },
  {
   "cell_type": "markdown",
   "metadata": {},
   "source": [
    "Calculating Weights for Hidden Layer to Output Layer"
   ]
  },
  {
   "cell_type": "code",
   "execution_count": 131,
   "metadata": {},
   "outputs": [
    {
     "name": "stdout",
     "output_type": "stream",
     "text": [
      "[[-0.32836003  1.0861446  -0.65963464  0.80986502  1.36049836 -0.34835851\n",
      "  -0.69090084  0.02577142  0.91910916 -1.39979513  0.57802973 -0.17489527\n",
      "   0.43604799  0.40059343 -1.67284986]\n",
      " [-0.06967294  1.95580632 -2.44439816  0.78627291  0.0535224   0.80411876\n",
      "   0.05275637  0.99884072  0.59149713  0.63282047  1.45206662 -3.79697369\n",
      "   0.62252057 -1.66850931 -1.34851056]]\n"
     ]
    },
    {
     "data": {
      "text/plain": [
       "(2, 15)"
      ]
     },
     "execution_count": 131,
     "metadata": {},
     "output_type": "execute_result"
    }
   ],
   "source": [
    "#70x70\n",
    "#input = 4900, hiddenLayer = 1, neuron = 2\n",
    "\n",
    "n = 2\n",
    "stddev = np.sqrt(2/n)\n",
    "w = np.random.normal(loc=0, scale = stddev, size = (n, outputLayer))\n",
    "print(w)\n",
    "np.shape(w)"
   ]
  },
  {
   "cell_type": "markdown",
   "metadata": {},
   "source": [
    "Calculating Bias Weight from Hidden Layer to Output Layer"
   ]
  },
  {
   "cell_type": "code",
   "execution_count": 132,
   "metadata": {},
   "outputs": [
    {
     "name": "stdout",
     "output_type": "stream",
     "text": [
      "[[-1.17776205  0.20230774  0.67612097  0.31296104  1.08083766  0.87450015\n",
      "  -0.03709175  0.07962697 -0.52236597  0.50318047 -1.2653688  -0.83717542\n",
      "   0.32347868  0.07798862 -0.29364583]]\n"
     ]
    },
    {
     "data": {
      "text/plain": [
       "(1, 15)"
      ]
     },
     "execution_count": 132,
     "metadata": {},
     "output_type": "execute_result"
    }
   ],
   "source": [
    "wb = np.random.normal(loc=0, scale = stddev, size = (1, outputLayer))\n",
    "print(wb)\n",
    "np.shape(wb)"
   ]
  },
  {
   "cell_type": "markdown",
   "metadata": {},
   "source": [
    "Feedforward"
   ]
  },
  {
   "cell_type": "code",
   "execution_count": 133,
   "metadata": {},
   "outputs": [
    {
     "name": "stdout",
     "output_type": "stream",
     "text": [
      "[[ 1.73828488 -0.39642524]\n",
      " [ 0.74300153  0.60127469]\n",
      " [ 1.30582168 -0.23960768]\n",
      " ...\n",
      " [ 1.40463552 -0.28552785]\n",
      " [ 0.55882333  0.74688209]\n",
      " [ 1.96448446 -0.12473617]]\n"
     ]
    },
    {
     "data": {
      "text/plain": [
       "(1384, 2)"
      ]
     },
     "execution_count": 133,
     "metadata": {},
     "output_type": "execute_result"
    }
   ],
   "source": [
    "z_in = np.matmul(X,v) + vb\n",
    "print(z_in)\n",
    "np.shape(z_in)"
   ]
  },
  {
   "cell_type": "code",
   "execution_count": 134,
   "metadata": {},
   "outputs": [
    {
     "name": "stdout",
     "output_type": "stream",
     "text": [
      "[[1.73828488 0.        ]\n",
      " [0.74300153 0.60127469]\n",
      " [1.30582168 0.        ]\n",
      " ...\n",
      " [1.40463552 0.        ]\n",
      " [0.55882333 0.74688209]\n",
      " [1.96448446 0.        ]]\n"
     ]
    }
   ],
   "source": [
    "# z = max([0,z_in])\n",
    "z = np.maximum(0,z_in)\n",
    "print(z)"
   ]
  },
  {
   "cell_type": "code",
   "execution_count": 135,
   "metadata": {},
   "outputs": [
    {
     "name": "stdout",
     "output_type": "stream",
     "text": [
      "[[-1.74854533  2.09033647 -0.47051195 ...  1.08145431  0.77433411\n",
      "  -3.20153545]\n",
      " [-1.46362663  2.18529168 -1.28374332 ...  1.02176887 -0.62760227\n",
      "  -2.34740111]\n",
      " [-1.6065417   1.62061891 -0.18524424 ...  0.8928796   0.6010922\n",
      "  -2.47808945]\n",
      " ...\n",
      " [-1.63898822  1.72794503 -0.25042528 ...  0.93596718  0.64067638\n",
      "  -2.64339017]\n",
      " [-1.41329477  2.27002739 -1.51817546 ...  1.03210193 -0.94433015\n",
      "  -2.23565175]\n",
      " [-1.82282023  2.33602192 -0.61972103 ...  1.18008818  0.86494818\n",
      "  -3.57993338]]\n"
     ]
    }
   ],
   "source": [
    "#y_in = np.dot(z,w) + wb\n",
    "y_in = np.matmul(z,w) + wb\n",
    "print(y_in)"
   ]
  },
  {
   "cell_type": "code",
   "execution_count": 136,
   "metadata": {},
   "outputs": [
    {
     "name": "stdout",
     "output_type": "stream",
     "text": [
      "[[0.14823077 0.88996038 0.38449508 ... 0.7467691  0.6844577  0.03910798]\n",
      " [0.18791327 0.8989209  0.2169137  ... 0.73531701 0.34805441 0.08727257]\n",
      " [0.16706931 0.83488047 0.45382092 ... 0.70948406 0.64590614 0.07740854]\n",
      " ...\n",
      " [0.16260278 0.84914938 0.43771883 ... 0.71828433 0.65490634 0.06639757]\n",
      " [0.19571491 0.90636411 0.17973035 ... 0.7373232  0.2800265  0.09659432]\n",
      " [0.13909581 0.91181674 0.3498449  ... 0.76496366 0.70369343 0.02712147]]\n"
     ]
    },
    {
     "data": {
      "text/plain": [
       "(1384, 15)"
      ]
     },
     "execution_count": 136,
     "metadata": {},
     "output_type": "execute_result"
    }
   ],
   "source": [
    "# y = fsigmoid(y_in)\n",
    "y = 1 / (1 + np.exp(-y_in))\n",
    "print(y)\n",
    "np.shape(y)"
   ]
  },
  {
   "cell_type": "markdown",
   "metadata": {},
   "source": [
    "Back Propagation"
   ]
  },
  {
   "cell_type": "code",
   "execution_count": 137,
   "metadata": {},
   "outputs": [
    {
     "name": "stdout",
     "output_type": "stream",
     "text": [
      "[[ 0.10754303 -0.08715462 -0.09099407 ... -0.14121778 -0.147826\n",
      "  -0.00146962]\n",
      " [ 0.12392596 -0.08167785 -0.03684543 ... -0.14311174 -0.07897791\n",
      "  -0.00695179]\n",
      " [ 0.11590826 -0.11509251 -0.11248745 ... -0.14623632 -0.1477261\n",
      "  -0.00552824]\n",
      " ...\n",
      " [-0.0221405  -0.10877154 -0.10773182 ... -0.14534624 -0.14801147\n",
      "   0.05787302]\n",
      " [-0.0308076  -0.0769215  -0.02649717 ... -0.14280306 -0.05645661\n",
      "   0.07883467]\n",
      " [-0.01665647 -0.07331642 -0.07957343 ... -0.13753607 -0.1467264\n",
      "   0.02567028]]\n"
     ]
    },
    {
     "data": {
      "text/plain": [
       "(1384, 15)"
      ]
     },
     "execution_count": 137,
     "metadata": {},
     "output_type": "execute_result"
    }
   ],
   "source": [
    "#setiap unit output\n",
    "#sigma_y = (Y-y)*f'(y_in) \n",
    "sigma_k = (Y-y)*np.exp(-y_in)/(np.exp(-y_in)+1)**2\n",
    "print(sigma_k)\n",
    "np.shape(sigma_k)"
   ]
  },
  {
   "cell_type": "code",
   "execution_count": 138,
   "metadata": {},
   "outputs": [
    {
     "name": "stdout",
     "output_type": "stream",
     "text": [
      "[[1.73828488 0.        ]\n",
      " [0.74300153 0.60127469]\n",
      " [1.30582168 0.        ]\n",
      " ...\n",
      " [1.40463552 0.        ]\n",
      " [0.55882333 0.74688209]\n",
      " [1.96448446 0.        ]]\n"
     ]
    }
   ],
   "source": [
    "a = 0.2\n",
    "z1 = np.zeros(15)\n",
    "z2 = np.zeros(15)\n",
    "z3 = np.zeros(15)\n",
    "z1 = z[0]\n",
    "z2 = z[1]\n",
    "z3 = z[2]\n",
    "print(z)\n"
   ]
  }
 ],
 "metadata": {
  "kernelspec": {
   "display_name": "Python 3",
   "language": "python",
   "name": "python3"
  },
  "language_info": {
   "codemirror_mode": {
    "name": "ipython",
    "version": 3
   },
   "file_extension": ".py",
   "mimetype": "text/x-python",
   "name": "python",
   "nbconvert_exporter": "python",
   "pygments_lexer": "ipython3",
   "version": "3.12.4"
  }
 },
 "nbformat": 4,
 "nbformat_minor": 2
}
