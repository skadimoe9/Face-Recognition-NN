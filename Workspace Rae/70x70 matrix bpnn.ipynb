{
 "cells": [
  {
   "cell_type": "markdown",
   "metadata": {},
   "source": [
    "Import Library"
   ]
  },
  {
   "cell_type": "code",
   "execution_count": 12,
   "metadata": {},
   "outputs": [],
   "source": [
    "import os\n",
    "import numpy as np\n",
    "from PIL import Image\n",
    "import numpy as np\n",
    "from numpy.random import normal"
   ]
  },
  {
   "cell_type": "markdown",
   "metadata": {},
   "source": [
    "Flatten"
   ]
  },
  {
   "cell_type": "code",
   "execution_count": 13,
   "metadata": {},
   "outputs": [
    {
     "name": "stdout",
     "output_type": "stream",
     "text": [
      "Found folders: ['Azmira', 'David', 'Dimas', 'Fadhli', 'Fadlin', 'Hafidz', 'Haidar', 'Hanna', 'Keiko', 'Khansa', 'Mikhael', 'Puti', 'Raesa', 'Satwika', 'Toni']\n",
      "Input array shape: (1384, 2500)\n",
      "Output array shape: (1384, 15)\n"
     ]
    }
   ],
   "source": [
    "# Set the input directory path\n",
    "input_directory = \"../Dataset/Foto_Resize_50x50\"\n",
    "\n",
    "# List all folders in the input directory\n",
    "folders = [f for f in os.listdir(input_directory) if os.path.isdir(os.path.join(input_directory, f))]\n",
    "print(f\"Found folders: {folders}\")\n",
    "\n",
    "# Initialize arrays for inputs and outputs\n",
    "X = []\n",
    "y = []\n",
    "\n",
    "# Create a mapping from folder names to one-hot encoded labels\n",
    "label_map = {folder: idx for idx, folder in enumerate(folders)}\n",
    "num_classes = len(folders)\n",
    "\n",
    "# Process each folder and photo\n",
    "for folder in folders:\n",
    "    folder_path = os.path.join(input_directory, folder)\n",
    "    \n",
    "    # Sort the list of photos to ensure consistent order\n",
    "    photos = sorted([p for p in os.listdir(folder_path) if p.endswith(('.png', '.jpg', '.jpeg'))])\n",
    "    \n",
    "    for photo in photos:\n",
    "        photo_path = os.path.join(folder_path, photo)\n",
    "        image = Image.open(photo_path)\n",
    "        \n",
    "        # Convert the image to a numpy array and flatten it\n",
    "        image_array = np.array(image).flatten()\n",
    "        X.append(image_array)\n",
    "        \n",
    "        # Create a one-hot encoded label\n",
    "        label = np.zeros(num_classes)\n",
    "        label[label_map[folder]] = 1\n",
    "        y.append(label)\n",
    "\n",
    "# Convert lists to numpy arrays\n",
    "X = np.array(X)\n",
    "y = np.array(y)\n",
    "\n",
    "print(f\"Input array shape: {X.shape}\")\n",
    "print(f\"Output array shape: {y.shape}\")"
   ]
  },
  {
   "cell_type": "markdown",
   "metadata": {},
   "source": [
    "Normalize X, Print Y"
   ]
  },
  {
   "cell_type": "code",
   "execution_count": 14,
   "metadata": {},
   "outputs": [
    {
     "name": "stdout",
     "output_type": "stream",
     "text": [
      "[[218 220 223 ... 149 130 111]\n",
      " [252 253 253 ... 147 132 118]\n",
      " [111 119 139 ... 222 218 218]\n",
      " ...\n",
      " [213 214 215 ...  58  50  50]\n",
      " [214 214 214 ...  75  67  67]\n",
      " [ 48  54  64 ... 215 212 212]]\n",
      "[[0.85490196 0.8627451  0.8745098  ... 0.58431373 0.50980392 0.43529412]\n",
      " [0.98823529 0.99215686 0.99215686 ... 0.57647059 0.51764706 0.4627451 ]\n",
      " [0.43529412 0.46666667 0.54509804 ... 0.87058824 0.85490196 0.85490196]\n",
      " ...\n",
      " [0.83529412 0.83921569 0.84313725 ... 0.22745098 0.19607843 0.19607843]\n",
      " [0.83921569 0.83921569 0.83921569 ... 0.29411765 0.2627451  0.2627451 ]\n",
      " [0.18823529 0.21176471 0.25098039 ... 0.84313725 0.83137255 0.83137255]]\n"
     ]
    }
   ],
   "source": [
    "print(X)\n",
    "xmax = X.max()\n",
    "xmin = X.min()\n",
    "X =  (X-xmin)/(xmax-xmin)\n",
    "print(X)"
   ]
  },
  {
   "cell_type": "code",
   "execution_count": 15,
   "metadata": {},
   "outputs": [
    {
     "name": "stdout",
     "output_type": "stream",
     "text": [
      "[[1. 0. 0. ... 0. 0. 0.]\n",
      " [1. 0. 0. ... 0. 0. 0.]\n",
      " [1. 0. 0. ... 0. 0. 0.]\n",
      " ...\n",
      " [0. 0. 0. ... 0. 0. 1.]\n",
      " [0. 0. 0. ... 0. 0. 1.]\n",
      " [0. 0. 0. ... 0. 0. 1.]]\n"
     ]
    }
   ],
   "source": [
    "print(y)"
   ]
  },
  {
   "cell_type": "markdown",
   "metadata": {},
   "source": [
    "Initialize Layer"
   ]
  },
  {
   "cell_type": "code",
   "execution_count": 16,
   "metadata": {},
   "outputs": [],
   "source": [
    "inputLayer = 2500\n",
    "hiddenLayer = 7\n",
    "outputLayer = 15"
   ]
  },
  {
   "cell_type": "markdown",
   "metadata": {},
   "source": [
    "Calculating Weights"
   ]
  },
  {
   "cell_type": "code",
   "execution_count": null,
   "metadata": {},
   "outputs": [
    {
     "name": "stdout",
     "output_type": "stream",
     "text": [
      "[[ 0.03874289 -0.03537039]\n",
      " [ 0.00995655  0.00519049]\n",
      " [ 0.032025    0.00690439]\n",
      " ...\n",
      " [ 0.01991406  0.00443412]\n",
      " [ 0.00064986  0.0417303 ]\n",
      " [-0.0120481  -0.00653353]]\n"
     ]
    },
    {
     "data": {
      "text/plain": [
       "(4900, 2)"
      ]
     },
     "execution_count": 19,
     "metadata": {},
     "output_type": "execute_result"
    }
   ],
   "source": [
    "#70x70\n",
    "#input = 4900, hiddenLayer = 1, neuron = 2\n",
    "\n",
    "n = 4900\n",
    "stddev = np.sqrt(2/n)\n",
    "hiddenNeurons = 2\n",
    "w = np.random.normal(loc=0, scale = stddev, size = (n, hiddenNeurons))\n",
    "print(w)\n",
    "np.shape(w)"
   ]
  }
 ],
 "metadata": {
  "kernelspec": {
   "display_name": "Python 3",
   "language": "python",
   "name": "python3"
  },
  "language_info": {
   "codemirror_mode": {
    "name": "ipython",
    "version": 3
   },
   "file_extension": ".py",
   "mimetype": "text/x-python",
   "name": "python",
   "nbconvert_exporter": "python",
   "pygments_lexer": "ipython3",
   "version": "3.12.4"
  }
 },
 "nbformat": 4,
 "nbformat_minor": 2
}
